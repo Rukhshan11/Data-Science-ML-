{
 "cells": [
  {
   "cell_type": "markdown",
   "id": "77abc917",
   "metadata": {},
   "source": [
    "# Weather Prediction Model"
   ]
  },
  {
   "cell_type": "markdown",
   "id": "13b570fd",
   "metadata": {},
   "source": [
    "### Rukhshan Alam"
   ]
  },
  {
   "cell_type": "code",
   "execution_count": 107,
   "id": "1d790a76",
   "metadata": {},
   "outputs": [],
   "source": [
    "import pandas as pd\n",
    "import numpy as np\n",
    "\n",
    "import matplotlib.pyplot as plt\n",
    "import seaborn as sns"
   ]
  },
  {
   "cell_type": "code",
   "execution_count": 108,
   "id": "74c85897",
   "metadata": {},
   "outputs": [],
   "source": [
    "weather = pd.read_csv('local_weather.csv')"
   ]
  },
  {
   "cell_type": "code",
   "execution_count": 109,
   "id": "7449c02b",
   "metadata": {},
   "outputs": [
    {
     "data": {
      "text/html": [
       "<div>\n",
       "<style scoped>\n",
       "    .dataframe tbody tr th:only-of-type {\n",
       "        vertical-align: middle;\n",
       "    }\n",
       "\n",
       "    .dataframe tbody tr th {\n",
       "        vertical-align: top;\n",
       "    }\n",
       "\n",
       "    .dataframe thead th {\n",
       "        text-align: right;\n",
       "    }\n",
       "</style>\n",
       "<table border=\"1\" class=\"dataframe\">\n",
       "  <thead>\n",
       "    <tr style=\"text-align: right;\">\n",
       "      <th></th>\n",
       "      <th>STATION</th>\n",
       "      <th>NAME</th>\n",
       "      <th>DATE</th>\n",
       "      <th>ACMH</th>\n",
       "      <th>ACSH</th>\n",
       "      <th>AWND</th>\n",
       "      <th>DAPR</th>\n",
       "      <th>FMTM</th>\n",
       "      <th>FRGT</th>\n",
       "      <th>MDPR</th>\n",
       "      <th>PGTM</th>\n",
       "      <th>PRCP</th>\n",
       "      <th>SNOW</th>\n",
       "      <th>SNWD</th>\n",
       "      <th>TAVG</th>\n",
       "      <th>TMAX</th>\n",
       "      <th>TMIN</th>\n",
       "      <th>TSUN</th>\n",
       "      <th>WDF1</th>\n",
       "      <th>WDF2</th>\n",
       "      <th>WDF5</th>\n",
       "      <th>WDFG</th>\n",
       "      <th>WSF1</th>\n",
       "      <th>WSF2</th>\n",
       "      <th>WSF5</th>\n",
       "      <th>WSFG</th>\n",
       "      <th>WT01</th>\n",
       "      <th>WT02</th>\n",
       "      <th>WT03</th>\n",
       "      <th>WT04</th>\n",
       "      <th>WT05</th>\n",
       "      <th>WT07</th>\n",
       "      <th>WT08</th>\n",
       "      <th>WT09</th>\n",
       "      <th>WT16</th>\n",
       "      <th>WT18</th>\n",
       "    </tr>\n",
       "  </thead>\n",
       "  <tbody>\n",
       "    <tr>\n",
       "      <th>0</th>\n",
       "      <td>USW00023230</td>\n",
       "      <td>OAKLAND INTERNATIONAL AIRPORT, CA US</td>\n",
       "      <td>1960-01-01</td>\n",
       "      <td>NaN</td>\n",
       "      <td>NaN</td>\n",
       "      <td>NaN</td>\n",
       "      <td>NaN</td>\n",
       "      <td>NaN</td>\n",
       "      <td>NaN</td>\n",
       "      <td>NaN</td>\n",
       "      <td>NaN</td>\n",
       "      <td>0.0</td>\n",
       "      <td>0.0</td>\n",
       "      <td>0.0</td>\n",
       "      <td>NaN</td>\n",
       "      <td>49.0</td>\n",
       "      <td>30.0</td>\n",
       "      <td>NaN</td>\n",
       "      <td>NaN</td>\n",
       "      <td>NaN</td>\n",
       "      <td>NaN</td>\n",
       "      <td>NaN</td>\n",
       "      <td>NaN</td>\n",
       "      <td>NaN</td>\n",
       "      <td>NaN</td>\n",
       "      <td>NaN</td>\n",
       "      <td>NaN</td>\n",
       "      <td>NaN</td>\n",
       "      <td>NaN</td>\n",
       "      <td>NaN</td>\n",
       "      <td>NaN</td>\n",
       "      <td>NaN</td>\n",
       "      <td>NaN</td>\n",
       "      <td>NaN</td>\n",
       "      <td>NaN</td>\n",
       "      <td>NaN</td>\n",
       "    </tr>\n",
       "    <tr>\n",
       "      <th>1</th>\n",
       "      <td>USW00023230</td>\n",
       "      <td>OAKLAND INTERNATIONAL AIRPORT, CA US</td>\n",
       "      <td>1960-01-02</td>\n",
       "      <td>NaN</td>\n",
       "      <td>NaN</td>\n",
       "      <td>NaN</td>\n",
       "      <td>NaN</td>\n",
       "      <td>NaN</td>\n",
       "      <td>NaN</td>\n",
       "      <td>NaN</td>\n",
       "      <td>NaN</td>\n",
       "      <td>0.0</td>\n",
       "      <td>0.0</td>\n",
       "      <td>0.0</td>\n",
       "      <td>NaN</td>\n",
       "      <td>49.0</td>\n",
       "      <td>29.0</td>\n",
       "      <td>NaN</td>\n",
       "      <td>NaN</td>\n",
       "      <td>NaN</td>\n",
       "      <td>NaN</td>\n",
       "      <td>NaN</td>\n",
       "      <td>NaN</td>\n",
       "      <td>NaN</td>\n",
       "      <td>NaN</td>\n",
       "      <td>NaN</td>\n",
       "      <td>NaN</td>\n",
       "      <td>NaN</td>\n",
       "      <td>NaN</td>\n",
       "      <td>NaN</td>\n",
       "      <td>NaN</td>\n",
       "      <td>NaN</td>\n",
       "      <td>NaN</td>\n",
       "      <td>NaN</td>\n",
       "      <td>1.0</td>\n",
       "      <td>NaN</td>\n",
       "    </tr>\n",
       "    <tr>\n",
       "      <th>2</th>\n",
       "      <td>USW00023230</td>\n",
       "      <td>OAKLAND INTERNATIONAL AIRPORT, CA US</td>\n",
       "      <td>1960-01-03</td>\n",
       "      <td>NaN</td>\n",
       "      <td>NaN</td>\n",
       "      <td>NaN</td>\n",
       "      <td>NaN</td>\n",
       "      <td>NaN</td>\n",
       "      <td>NaN</td>\n",
       "      <td>NaN</td>\n",
       "      <td>NaN</td>\n",
       "      <td>0.0</td>\n",
       "      <td>0.0</td>\n",
       "      <td>0.0</td>\n",
       "      <td>NaN</td>\n",
       "      <td>54.0</td>\n",
       "      <td>35.0</td>\n",
       "      <td>NaN</td>\n",
       "      <td>NaN</td>\n",
       "      <td>NaN</td>\n",
       "      <td>NaN</td>\n",
       "      <td>NaN</td>\n",
       "      <td>NaN</td>\n",
       "      <td>NaN</td>\n",
       "      <td>NaN</td>\n",
       "      <td>NaN</td>\n",
       "      <td>NaN</td>\n",
       "      <td>NaN</td>\n",
       "      <td>NaN</td>\n",
       "      <td>NaN</td>\n",
       "      <td>NaN</td>\n",
       "      <td>NaN</td>\n",
       "      <td>NaN</td>\n",
       "      <td>NaN</td>\n",
       "      <td>NaN</td>\n",
       "      <td>NaN</td>\n",
       "    </tr>\n",
       "    <tr>\n",
       "      <th>3</th>\n",
       "      <td>USW00023230</td>\n",
       "      <td>OAKLAND INTERNATIONAL AIRPORT, CA US</td>\n",
       "      <td>1960-01-04</td>\n",
       "      <td>NaN</td>\n",
       "      <td>NaN</td>\n",
       "      <td>NaN</td>\n",
       "      <td>NaN</td>\n",
       "      <td>NaN</td>\n",
       "      <td>NaN</td>\n",
       "      <td>NaN</td>\n",
       "      <td>NaN</td>\n",
       "      <td>0.0</td>\n",
       "      <td>0.0</td>\n",
       "      <td>0.0</td>\n",
       "      <td>NaN</td>\n",
       "      <td>54.0</td>\n",
       "      <td>36.0</td>\n",
       "      <td>NaN</td>\n",
       "      <td>NaN</td>\n",
       "      <td>NaN</td>\n",
       "      <td>NaN</td>\n",
       "      <td>NaN</td>\n",
       "      <td>NaN</td>\n",
       "      <td>NaN</td>\n",
       "      <td>NaN</td>\n",
       "      <td>NaN</td>\n",
       "      <td>NaN</td>\n",
       "      <td>NaN</td>\n",
       "      <td>NaN</td>\n",
       "      <td>NaN</td>\n",
       "      <td>NaN</td>\n",
       "      <td>NaN</td>\n",
       "      <td>NaN</td>\n",
       "      <td>NaN</td>\n",
       "      <td>NaN</td>\n",
       "      <td>NaN</td>\n",
       "    </tr>\n",
       "    <tr>\n",
       "      <th>4</th>\n",
       "      <td>USW00023230</td>\n",
       "      <td>OAKLAND INTERNATIONAL AIRPORT, CA US</td>\n",
       "      <td>1960-01-05</td>\n",
       "      <td>NaN</td>\n",
       "      <td>NaN</td>\n",
       "      <td>NaN</td>\n",
       "      <td>NaN</td>\n",
       "      <td>NaN</td>\n",
       "      <td>NaN</td>\n",
       "      <td>NaN</td>\n",
       "      <td>NaN</td>\n",
       "      <td>0.0</td>\n",
       "      <td>0.0</td>\n",
       "      <td>0.0</td>\n",
       "      <td>NaN</td>\n",
       "      <td>55.0</td>\n",
       "      <td>33.0</td>\n",
       "      <td>NaN</td>\n",
       "      <td>NaN</td>\n",
       "      <td>NaN</td>\n",
       "      <td>NaN</td>\n",
       "      <td>NaN</td>\n",
       "      <td>NaN</td>\n",
       "      <td>NaN</td>\n",
       "      <td>NaN</td>\n",
       "      <td>NaN</td>\n",
       "      <td>1.0</td>\n",
       "      <td>NaN</td>\n",
       "      <td>NaN</td>\n",
       "      <td>NaN</td>\n",
       "      <td>NaN</td>\n",
       "      <td>NaN</td>\n",
       "      <td>1.0</td>\n",
       "      <td>NaN</td>\n",
       "      <td>NaN</td>\n",
       "      <td>NaN</td>\n",
       "    </tr>\n",
       "  </tbody>\n",
       "</table>\n",
       "</div>"
      ],
      "text/plain": [
       "       STATION                                  NAME        DATE  ACMH  ACSH  \\\n",
       "0  USW00023230  OAKLAND INTERNATIONAL AIRPORT, CA US  1960-01-01   NaN   NaN   \n",
       "1  USW00023230  OAKLAND INTERNATIONAL AIRPORT, CA US  1960-01-02   NaN   NaN   \n",
       "2  USW00023230  OAKLAND INTERNATIONAL AIRPORT, CA US  1960-01-03   NaN   NaN   \n",
       "3  USW00023230  OAKLAND INTERNATIONAL AIRPORT, CA US  1960-01-04   NaN   NaN   \n",
       "4  USW00023230  OAKLAND INTERNATIONAL AIRPORT, CA US  1960-01-05   NaN   NaN   \n",
       "\n",
       "   AWND  DAPR  FMTM  FRGT  MDPR  PGTM  PRCP  SNOW  SNWD  TAVG  TMAX  TMIN  \\\n",
       "0   NaN   NaN   NaN   NaN   NaN   NaN   0.0   0.0   0.0   NaN  49.0  30.0   \n",
       "1   NaN   NaN   NaN   NaN   NaN   NaN   0.0   0.0   0.0   NaN  49.0  29.0   \n",
       "2   NaN   NaN   NaN   NaN   NaN   NaN   0.0   0.0   0.0   NaN  54.0  35.0   \n",
       "3   NaN   NaN   NaN   NaN   NaN   NaN   0.0   0.0   0.0   NaN  54.0  36.0   \n",
       "4   NaN   NaN   NaN   NaN   NaN   NaN   0.0   0.0   0.0   NaN  55.0  33.0   \n",
       "\n",
       "   TSUN  WDF1  WDF2  WDF5  WDFG  WSF1  WSF2  WSF5  WSFG  WT01  WT02  WT03  \\\n",
       "0   NaN   NaN   NaN   NaN   NaN   NaN   NaN   NaN   NaN   NaN   NaN   NaN   \n",
       "1   NaN   NaN   NaN   NaN   NaN   NaN   NaN   NaN   NaN   NaN   NaN   NaN   \n",
       "2   NaN   NaN   NaN   NaN   NaN   NaN   NaN   NaN   NaN   NaN   NaN   NaN   \n",
       "3   NaN   NaN   NaN   NaN   NaN   NaN   NaN   NaN   NaN   NaN   NaN   NaN   \n",
       "4   NaN   NaN   NaN   NaN   NaN   NaN   NaN   NaN   NaN   1.0   NaN   NaN   \n",
       "\n",
       "   WT04  WT05  WT07  WT08  WT09  WT16  WT18  \n",
       "0   NaN   NaN   NaN   NaN   NaN   NaN   NaN  \n",
       "1   NaN   NaN   NaN   NaN   NaN   1.0   NaN  \n",
       "2   NaN   NaN   NaN   NaN   NaN   NaN   NaN  \n",
       "3   NaN   NaN   NaN   NaN   NaN   NaN   NaN  \n",
       "4   NaN   NaN   NaN   1.0   NaN   NaN   NaN  "
      ]
     },
     "execution_count": 109,
     "metadata": {},
     "output_type": "execute_result"
    }
   ],
   "source": [
    "pd.set_option('display.max_columns', None)\n",
    "weather.head()"
   ]
  },
  {
   "cell_type": "code",
   "execution_count": 110,
   "id": "20863fb6",
   "metadata": {},
   "outputs": [],
   "source": [
    "weather = weather.set_index('DATE')"
   ]
  },
  {
   "cell_type": "code",
   "execution_count": 111,
   "id": "83e23682",
   "metadata": {},
   "outputs": [
    {
     "data": {
      "text/plain": [
       "Index(['STATION', 'NAME', 'ACMH', 'ACSH', 'AWND', 'DAPR', 'FMTM', 'FRGT',\n",
       "       'MDPR', 'PGTM', 'PRCP', 'SNOW', 'SNWD', 'TAVG', 'TMAX', 'TMIN', 'TSUN',\n",
       "       'WDF1', 'WDF2', 'WDF5', 'WDFG', 'WSF1', 'WSF2', 'WSF5', 'WSFG', 'WT01',\n",
       "       'WT02', 'WT03', 'WT04', 'WT05', 'WT07', 'WT08', 'WT09', 'WT16', 'WT18'],\n",
       "      dtype='object')"
      ]
     },
     "execution_count": 111,
     "metadata": {},
     "output_type": "execute_result"
    }
   ],
   "source": [
    "weather.columns"
   ]
  },
  {
   "cell_type": "markdown",
   "id": "eeaeaeb9",
   "metadata": {},
   "source": [
    "## Primary columns to look into are:\n",
    "\n",
    "### PRCP — total precipitation\n",
    "### TMAX — maximum daily temperature\n",
    "### TMIN — minimum daily temperature\n",
    "### SNOW — the total daily snowfall\n",
    "### SNWD — total snow depth on the ground\n"
   ]
  },
  {
   "cell_type": "code",
   "execution_count": 112,
   "id": "6a93964e",
   "metadata": {},
   "outputs": [],
   "source": [
    "primary_weather = weather[['PRCP', 'SNOW', 'SNWD', 'TMAX', 'TMIN']]"
   ]
  },
  {
   "cell_type": "code",
   "execution_count": 113,
   "id": "be29bf28",
   "metadata": {},
   "outputs": [
    {
     "data": {
      "text/html": [
       "<div>\n",
       "<style scoped>\n",
       "    .dataframe tbody tr th:only-of-type {\n",
       "        vertical-align: middle;\n",
       "    }\n",
       "\n",
       "    .dataframe tbody tr th {\n",
       "        vertical-align: top;\n",
       "    }\n",
       "\n",
       "    .dataframe thead th {\n",
       "        text-align: right;\n",
       "    }\n",
       "</style>\n",
       "<table border=\"1\" class=\"dataframe\">\n",
       "  <thead>\n",
       "    <tr style=\"text-align: right;\">\n",
       "      <th></th>\n",
       "      <th>PRCP</th>\n",
       "      <th>SNOW</th>\n",
       "      <th>SNWD</th>\n",
       "      <th>TMAX</th>\n",
       "      <th>TMIN</th>\n",
       "    </tr>\n",
       "    <tr>\n",
       "      <th>DATE</th>\n",
       "      <th></th>\n",
       "      <th></th>\n",
       "      <th></th>\n",
       "      <th></th>\n",
       "      <th></th>\n",
       "    </tr>\n",
       "  </thead>\n",
       "  <tbody>\n",
       "    <tr>\n",
       "      <th>1960-01-01</th>\n",
       "      <td>0.0</td>\n",
       "      <td>0.0</td>\n",
       "      <td>0.0</td>\n",
       "      <td>49.0</td>\n",
       "      <td>30.0</td>\n",
       "    </tr>\n",
       "    <tr>\n",
       "      <th>1960-01-02</th>\n",
       "      <td>0.0</td>\n",
       "      <td>0.0</td>\n",
       "      <td>0.0</td>\n",
       "      <td>49.0</td>\n",
       "      <td>29.0</td>\n",
       "    </tr>\n",
       "    <tr>\n",
       "      <th>1960-01-03</th>\n",
       "      <td>0.0</td>\n",
       "      <td>0.0</td>\n",
       "      <td>0.0</td>\n",
       "      <td>54.0</td>\n",
       "      <td>35.0</td>\n",
       "    </tr>\n",
       "    <tr>\n",
       "      <th>1960-01-04</th>\n",
       "      <td>0.0</td>\n",
       "      <td>0.0</td>\n",
       "      <td>0.0</td>\n",
       "      <td>54.0</td>\n",
       "      <td>36.0</td>\n",
       "    </tr>\n",
       "    <tr>\n",
       "      <th>1960-01-05</th>\n",
       "      <td>0.0</td>\n",
       "      <td>0.0</td>\n",
       "      <td>0.0</td>\n",
       "      <td>55.0</td>\n",
       "      <td>33.0</td>\n",
       "    </tr>\n",
       "    <tr>\n",
       "      <th>...</th>\n",
       "      <td>...</td>\n",
       "      <td>...</td>\n",
       "      <td>...</td>\n",
       "      <td>...</td>\n",
       "      <td>...</td>\n",
       "    </tr>\n",
       "    <tr>\n",
       "      <th>2022-01-24</th>\n",
       "      <td>0.0</td>\n",
       "      <td>NaN</td>\n",
       "      <td>NaN</td>\n",
       "      <td>60.0</td>\n",
       "      <td>39.0</td>\n",
       "    </tr>\n",
       "    <tr>\n",
       "      <th>2022-01-25</th>\n",
       "      <td>0.0</td>\n",
       "      <td>NaN</td>\n",
       "      <td>NaN</td>\n",
       "      <td>57.0</td>\n",
       "      <td>43.0</td>\n",
       "    </tr>\n",
       "    <tr>\n",
       "      <th>2022-01-26</th>\n",
       "      <td>0.0</td>\n",
       "      <td>NaN</td>\n",
       "      <td>NaN</td>\n",
       "      <td>57.0</td>\n",
       "      <td>41.0</td>\n",
       "    </tr>\n",
       "    <tr>\n",
       "      <th>2022-01-27</th>\n",
       "      <td>0.0</td>\n",
       "      <td>NaN</td>\n",
       "      <td>NaN</td>\n",
       "      <td>67.0</td>\n",
       "      <td>39.0</td>\n",
       "    </tr>\n",
       "    <tr>\n",
       "      <th>2022-01-28</th>\n",
       "      <td>0.0</td>\n",
       "      <td>NaN</td>\n",
       "      <td>NaN</td>\n",
       "      <td>64.0</td>\n",
       "      <td>39.0</td>\n",
       "    </tr>\n",
       "  </tbody>\n",
       "</table>\n",
       "<p>16859 rows × 5 columns</p>\n",
       "</div>"
      ],
      "text/plain": [
       "            PRCP  SNOW  SNWD  TMAX  TMIN\n",
       "DATE                                    \n",
       "1960-01-01   0.0   0.0   0.0  49.0  30.0\n",
       "1960-01-02   0.0   0.0   0.0  49.0  29.0\n",
       "1960-01-03   0.0   0.0   0.0  54.0  35.0\n",
       "1960-01-04   0.0   0.0   0.0  54.0  36.0\n",
       "1960-01-05   0.0   0.0   0.0  55.0  33.0\n",
       "...          ...   ...   ...   ...   ...\n",
       "2022-01-24   0.0   NaN   NaN  60.0  39.0\n",
       "2022-01-25   0.0   NaN   NaN  57.0  43.0\n",
       "2022-01-26   0.0   NaN   NaN  57.0  41.0\n",
       "2022-01-27   0.0   NaN   NaN  67.0  39.0\n",
       "2022-01-28   0.0   NaN   NaN  64.0  39.0\n",
       "\n",
       "[16859 rows x 5 columns]"
      ]
     },
     "execution_count": 113,
     "metadata": {},
     "output_type": "execute_result"
    }
   ],
   "source": [
    "primary_weather"
   ]
  },
  {
   "cell_type": "code",
   "execution_count": 114,
   "id": "148ad2c0",
   "metadata": {},
   "outputs": [],
   "source": [
    "# Renaming columns "
   ]
  },
  {
   "cell_type": "code",
   "execution_count": 115,
   "id": "ee8850e8",
   "metadata": {},
   "outputs": [
    {
     "name": "stderr",
     "output_type": "stream",
     "text": [
      "/var/folders/ld/984t852d7kx65v4rkqstw9p00000gn/T/ipykernel_5308/2498203494.py:1: SettingWithCopyWarning: \n",
      "A value is trying to be set on a copy of a slice from a DataFrame\n",
      "\n",
      "See the caveats in the documentation: https://pandas.pydata.org/pandas-docs/stable/user_guide/indexing.html#returning-a-view-versus-a-copy\n",
      "  primary_weather.rename({'PRCP':'total_Precipitation', 'TMAX':'max_Daily_Temp', 'TMIN':'min_Daily_Temp', 'SNOW':'total_Daily_Snow', 'SNWD':'total_Snow_Depth'},\n"
     ]
    }
   ],
   "source": [
    "primary_weather.rename({'PRCP':'total_Precipitation', 'TMAX':'max_Daily_Temp', 'TMIN':'min_Daily_Temp', 'SNOW':'total_Daily_Snow', 'SNWD':'total_Snow_Depth'},\n",
    "                       axis = 1, inplace = True)"
   ]
  },
  {
   "cell_type": "code",
   "execution_count": 116,
   "id": "12bff1aa",
   "metadata": {},
   "outputs": [
    {
     "data": {
      "text/html": [
       "<div>\n",
       "<style scoped>\n",
       "    .dataframe tbody tr th:only-of-type {\n",
       "        vertical-align: middle;\n",
       "    }\n",
       "\n",
       "    .dataframe tbody tr th {\n",
       "        vertical-align: top;\n",
       "    }\n",
       "\n",
       "    .dataframe thead th {\n",
       "        text-align: right;\n",
       "    }\n",
       "</style>\n",
       "<table border=\"1\" class=\"dataframe\">\n",
       "  <thead>\n",
       "    <tr style=\"text-align: right;\">\n",
       "      <th></th>\n",
       "      <th>total_Precipitation</th>\n",
       "      <th>total_Daily_Snow</th>\n",
       "      <th>total_Snow_Depth</th>\n",
       "      <th>max_Daily_Temp</th>\n",
       "      <th>min_Daily_Temp</th>\n",
       "    </tr>\n",
       "    <tr>\n",
       "      <th>DATE</th>\n",
       "      <th></th>\n",
       "      <th></th>\n",
       "      <th></th>\n",
       "      <th></th>\n",
       "      <th></th>\n",
       "    </tr>\n",
       "  </thead>\n",
       "  <tbody>\n",
       "    <tr>\n",
       "      <th>1960-01-01</th>\n",
       "      <td>0.0</td>\n",
       "      <td>0.0</td>\n",
       "      <td>0.0</td>\n",
       "      <td>49.0</td>\n",
       "      <td>30.0</td>\n",
       "    </tr>\n",
       "    <tr>\n",
       "      <th>1960-01-02</th>\n",
       "      <td>0.0</td>\n",
       "      <td>0.0</td>\n",
       "      <td>0.0</td>\n",
       "      <td>49.0</td>\n",
       "      <td>29.0</td>\n",
       "    </tr>\n",
       "    <tr>\n",
       "      <th>1960-01-03</th>\n",
       "      <td>0.0</td>\n",
       "      <td>0.0</td>\n",
       "      <td>0.0</td>\n",
       "      <td>54.0</td>\n",
       "      <td>35.0</td>\n",
       "    </tr>\n",
       "    <tr>\n",
       "      <th>1960-01-04</th>\n",
       "      <td>0.0</td>\n",
       "      <td>0.0</td>\n",
       "      <td>0.0</td>\n",
       "      <td>54.0</td>\n",
       "      <td>36.0</td>\n",
       "    </tr>\n",
       "    <tr>\n",
       "      <th>1960-01-05</th>\n",
       "      <td>0.0</td>\n",
       "      <td>0.0</td>\n",
       "      <td>0.0</td>\n",
       "      <td>55.0</td>\n",
       "      <td>33.0</td>\n",
       "    </tr>\n",
       "    <tr>\n",
       "      <th>...</th>\n",
       "      <td>...</td>\n",
       "      <td>...</td>\n",
       "      <td>...</td>\n",
       "      <td>...</td>\n",
       "      <td>...</td>\n",
       "    </tr>\n",
       "    <tr>\n",
       "      <th>2022-01-24</th>\n",
       "      <td>0.0</td>\n",
       "      <td>NaN</td>\n",
       "      <td>NaN</td>\n",
       "      <td>60.0</td>\n",
       "      <td>39.0</td>\n",
       "    </tr>\n",
       "    <tr>\n",
       "      <th>2022-01-25</th>\n",
       "      <td>0.0</td>\n",
       "      <td>NaN</td>\n",
       "      <td>NaN</td>\n",
       "      <td>57.0</td>\n",
       "      <td>43.0</td>\n",
       "    </tr>\n",
       "    <tr>\n",
       "      <th>2022-01-26</th>\n",
       "      <td>0.0</td>\n",
       "      <td>NaN</td>\n",
       "      <td>NaN</td>\n",
       "      <td>57.0</td>\n",
       "      <td>41.0</td>\n",
       "    </tr>\n",
       "    <tr>\n",
       "      <th>2022-01-27</th>\n",
       "      <td>0.0</td>\n",
       "      <td>NaN</td>\n",
       "      <td>NaN</td>\n",
       "      <td>67.0</td>\n",
       "      <td>39.0</td>\n",
       "    </tr>\n",
       "    <tr>\n",
       "      <th>2022-01-28</th>\n",
       "      <td>0.0</td>\n",
       "      <td>NaN</td>\n",
       "      <td>NaN</td>\n",
       "      <td>64.0</td>\n",
       "      <td>39.0</td>\n",
       "    </tr>\n",
       "  </tbody>\n",
       "</table>\n",
       "<p>16859 rows × 5 columns</p>\n",
       "</div>"
      ],
      "text/plain": [
       "            total_Precipitation  total_Daily_Snow  total_Snow_Depth  \\\n",
       "DATE                                                                  \n",
       "1960-01-01                  0.0               0.0               0.0   \n",
       "1960-01-02                  0.0               0.0               0.0   \n",
       "1960-01-03                  0.0               0.0               0.0   \n",
       "1960-01-04                  0.0               0.0               0.0   \n",
       "1960-01-05                  0.0               0.0               0.0   \n",
       "...                         ...               ...               ...   \n",
       "2022-01-24                  0.0               NaN               NaN   \n",
       "2022-01-25                  0.0               NaN               NaN   \n",
       "2022-01-26                  0.0               NaN               NaN   \n",
       "2022-01-27                  0.0               NaN               NaN   \n",
       "2022-01-28                  0.0               NaN               NaN   \n",
       "\n",
       "            max_Daily_Temp  min_Daily_Temp  \n",
       "DATE                                        \n",
       "1960-01-01            49.0            30.0  \n",
       "1960-01-02            49.0            29.0  \n",
       "1960-01-03            54.0            35.0  \n",
       "1960-01-04            54.0            36.0  \n",
       "1960-01-05            55.0            33.0  \n",
       "...                    ...             ...  \n",
       "2022-01-24            60.0            39.0  \n",
       "2022-01-25            57.0            43.0  \n",
       "2022-01-26            57.0            41.0  \n",
       "2022-01-27            67.0            39.0  \n",
       "2022-01-28            64.0            39.0  \n",
       "\n",
       "[16859 rows x 5 columns]"
      ]
     },
     "execution_count": 116,
     "metadata": {},
     "output_type": "execute_result"
    }
   ],
   "source": [
    "primary_weather"
   ]
  },
  {
   "cell_type": "code",
   "execution_count": 117,
   "id": "cf2c70c0",
   "metadata": {},
   "outputs": [
    {
     "name": "stdout",
     "output_type": "stream",
     "text": [
      "<class 'pandas.core.frame.DataFrame'>\n",
      "Index: 16859 entries, 1960-01-01 to 2022-01-28\n",
      "Data columns (total 5 columns):\n",
      " #   Column               Non-Null Count  Dtype  \n",
      "---  ------               --------------  -----  \n",
      " 0   total_Precipitation  16578 non-null  float64\n",
      " 1   total_Daily_Snow     11380 non-null  float64\n",
      " 2   total_Snow_Depth     11504 non-null  float64\n",
      " 3   max_Daily_Temp       16850 non-null  float64\n",
      " 4   min_Daily_Temp       16849 non-null  float64\n",
      "dtypes: float64(5)\n",
      "memory usage: 790.3+ KB\n"
     ]
    }
   ],
   "source": [
    "primary_weather.info()"
   ]
  },
  {
   "cell_type": "markdown",
   "id": "a108a976",
   "metadata": {},
   "source": [
    "## Performing data cleaning tasks"
   ]
  },
  {
   "cell_type": "markdown",
   "id": "b7ff5445",
   "metadata": {},
   "source": [
    "### Dealing with missing values"
   ]
  },
  {
   "cell_type": "code",
   "execution_count": 118,
   "id": "94bda774",
   "metadata": {},
   "outputs": [
    {
     "data": {
      "text/html": [
       "<div>\n",
       "<style scoped>\n",
       "    .dataframe tbody tr th:only-of-type {\n",
       "        vertical-align: middle;\n",
       "    }\n",
       "\n",
       "    .dataframe tbody tr th {\n",
       "        vertical-align: top;\n",
       "    }\n",
       "\n",
       "    .dataframe thead th {\n",
       "        text-align: right;\n",
       "    }\n",
       "</style>\n",
       "<table border=\"1\" class=\"dataframe\">\n",
       "  <thead>\n",
       "    <tr style=\"text-align: right;\">\n",
       "      <th></th>\n",
       "      <th>total_Precipitation</th>\n",
       "      <th>total_Daily_Snow</th>\n",
       "      <th>total_Snow_Depth</th>\n",
       "      <th>max_Daily_Temp</th>\n",
       "      <th>min_Daily_Temp</th>\n",
       "    </tr>\n",
       "    <tr>\n",
       "      <th>DATE</th>\n",
       "      <th></th>\n",
       "      <th></th>\n",
       "      <th></th>\n",
       "      <th></th>\n",
       "      <th></th>\n",
       "    </tr>\n",
       "  </thead>\n",
       "  <tbody>\n",
       "    <tr>\n",
       "      <th>1960-01-01</th>\n",
       "      <td>0.0</td>\n",
       "      <td>0.0</td>\n",
       "      <td>0.0</td>\n",
       "      <td>49.0</td>\n",
       "      <td>30.0</td>\n",
       "    </tr>\n",
       "    <tr>\n",
       "      <th>1960-01-02</th>\n",
       "      <td>0.0</td>\n",
       "      <td>0.0</td>\n",
       "      <td>0.0</td>\n",
       "      <td>49.0</td>\n",
       "      <td>29.0</td>\n",
       "    </tr>\n",
       "    <tr>\n",
       "      <th>1960-01-03</th>\n",
       "      <td>0.0</td>\n",
       "      <td>0.0</td>\n",
       "      <td>0.0</td>\n",
       "      <td>54.0</td>\n",
       "      <td>35.0</td>\n",
       "    </tr>\n",
       "    <tr>\n",
       "      <th>1960-01-04</th>\n",
       "      <td>0.0</td>\n",
       "      <td>0.0</td>\n",
       "      <td>0.0</td>\n",
       "      <td>54.0</td>\n",
       "      <td>36.0</td>\n",
       "    </tr>\n",
       "    <tr>\n",
       "      <th>1960-01-05</th>\n",
       "      <td>0.0</td>\n",
       "      <td>0.0</td>\n",
       "      <td>0.0</td>\n",
       "      <td>55.0</td>\n",
       "      <td>33.0</td>\n",
       "    </tr>\n",
       "    <tr>\n",
       "      <th>...</th>\n",
       "      <td>...</td>\n",
       "      <td>...</td>\n",
       "      <td>...</td>\n",
       "      <td>...</td>\n",
       "      <td>...</td>\n",
       "    </tr>\n",
       "    <tr>\n",
       "      <th>2022-01-24</th>\n",
       "      <td>0.0</td>\n",
       "      <td>0.0</td>\n",
       "      <td>0.0</td>\n",
       "      <td>60.0</td>\n",
       "      <td>39.0</td>\n",
       "    </tr>\n",
       "    <tr>\n",
       "      <th>2022-01-25</th>\n",
       "      <td>0.0</td>\n",
       "      <td>0.0</td>\n",
       "      <td>0.0</td>\n",
       "      <td>57.0</td>\n",
       "      <td>43.0</td>\n",
       "    </tr>\n",
       "    <tr>\n",
       "      <th>2022-01-26</th>\n",
       "      <td>0.0</td>\n",
       "      <td>0.0</td>\n",
       "      <td>0.0</td>\n",
       "      <td>57.0</td>\n",
       "      <td>41.0</td>\n",
       "    </tr>\n",
       "    <tr>\n",
       "      <th>2022-01-27</th>\n",
       "      <td>0.0</td>\n",
       "      <td>0.0</td>\n",
       "      <td>0.0</td>\n",
       "      <td>67.0</td>\n",
       "      <td>39.0</td>\n",
       "    </tr>\n",
       "    <tr>\n",
       "      <th>2022-01-28</th>\n",
       "      <td>0.0</td>\n",
       "      <td>0.0</td>\n",
       "      <td>0.0</td>\n",
       "      <td>64.0</td>\n",
       "      <td>39.0</td>\n",
       "    </tr>\n",
       "  </tbody>\n",
       "</table>\n",
       "<p>16859 rows × 5 columns</p>\n",
       "</div>"
      ],
      "text/plain": [
       "            total_Precipitation  total_Daily_Snow  total_Snow_Depth  \\\n",
       "DATE                                                                  \n",
       "1960-01-01                  0.0               0.0               0.0   \n",
       "1960-01-02                  0.0               0.0               0.0   \n",
       "1960-01-03                  0.0               0.0               0.0   \n",
       "1960-01-04                  0.0               0.0               0.0   \n",
       "1960-01-05                  0.0               0.0               0.0   \n",
       "...                         ...               ...               ...   \n",
       "2022-01-24                  0.0               0.0               0.0   \n",
       "2022-01-25                  0.0               0.0               0.0   \n",
       "2022-01-26                  0.0               0.0               0.0   \n",
       "2022-01-27                  0.0               0.0               0.0   \n",
       "2022-01-28                  0.0               0.0               0.0   \n",
       "\n",
       "            max_Daily_Temp  min_Daily_Temp  \n",
       "DATE                                        \n",
       "1960-01-01            49.0            30.0  \n",
       "1960-01-02            49.0            29.0  \n",
       "1960-01-03            54.0            35.0  \n",
       "1960-01-04            54.0            36.0  \n",
       "1960-01-05            55.0            33.0  \n",
       "...                    ...             ...  \n",
       "2022-01-24            60.0            39.0  \n",
       "2022-01-25            57.0            43.0  \n",
       "2022-01-26            57.0            41.0  \n",
       "2022-01-27            67.0            39.0  \n",
       "2022-01-28            64.0            39.0  \n",
       "\n",
       "[16859 rows x 5 columns]"
      ]
     },
     "execution_count": 118,
     "metadata": {},
     "output_type": "execute_result"
    }
   ],
   "source": [
    "# filling Nan values with 0 \n",
    "primary_weather.fillna(0)"
   ]
  },
  {
   "cell_type": "code",
   "execution_count": 119,
   "id": "21ec9ca1",
   "metadata": {
    "scrolled": false
   },
   "outputs": [
    {
     "data": {
      "text/plain": [
       "True     13664\n",
       "False     3195\n",
       "Name: total_Precipitation, dtype: int64"
      ]
     },
     "execution_count": 119,
     "metadata": {},
     "output_type": "execute_result"
    }
   ],
   "source": [
    "(primary_weather['total_Precipitation'] == 0).value_counts()"
   ]
  },
  {
   "cell_type": "code",
   "execution_count": 120,
   "id": "d59fb489",
   "metadata": {},
   "outputs": [
    {
     "data": {
      "text/plain": [
       "False    16858\n",
       "True         1\n",
       "Name: total_Daily_Snow, dtype: int64"
      ]
     },
     "execution_count": 120,
     "metadata": {},
     "output_type": "execute_result"
    }
   ],
   "source": [
    "(primary_weather['total_Daily_Snow'] > 0).value_counts()"
   ]
  },
  {
   "cell_type": "code",
   "execution_count": 121,
   "id": "2e889dc7",
   "metadata": {
    "scrolled": true
   },
   "outputs": [
    {
     "data": {
      "text/plain": [
       "False    16859\n",
       "Name: total_Snow_Depth, dtype: int64"
      ]
     },
     "execution_count": 121,
     "metadata": {},
     "output_type": "execute_result"
    }
   ],
   "source": [
    "(primary_weather['total_Snow_Depth'] > 0).value_counts()"
   ]
  },
  {
   "cell_type": "code",
   "execution_count": 122,
   "id": "c6e6f169",
   "metadata": {},
   "outputs": [
    {
     "data": {
      "text/plain": [
       "10"
      ]
     },
     "execution_count": 122,
     "metadata": {},
     "output_type": "execute_result"
    }
   ],
   "source": [
    "primary_weather['min_Daily_Temp'].isnull().sum()"
   ]
  },
  {
   "cell_type": "code",
   "execution_count": 123,
   "id": "ddc492a5",
   "metadata": {},
   "outputs": [
    {
     "data": {
      "text/plain": [
       "9"
      ]
     },
     "execution_count": 123,
     "metadata": {},
     "output_type": "execute_result"
    }
   ],
   "source": [
    "primary_weather['max_Daily_Temp'].isnull().sum()"
   ]
  },
  {
   "cell_type": "markdown",
   "id": "db36578f",
   "metadata": {},
   "source": [
    "#### total_Precipitation — total precipitation have 13945 values = 0        \n",
    "#### max_Daily_Temp — maximum daily temperature have only 9 values = 0\n",
    "#### min_Daily_Temp — minimum daily temperature have only 10 values = 0\n",
    "#### total_Daily_Snow — the total daily snowfall is missing 16858 out of 16859, it is not worth keeping.\n",
    "#### total_Snow_Depth — total snow depth on the ground is missing 16859 out of 16859, it is not worth keeping.\n"
   ]
  },
  {
   "cell_type": "code",
   "execution_count": null,
   "id": "ff6df5e5",
   "metadata": {},
   "outputs": [],
   "source": []
  },
  {
   "cell_type": "markdown",
   "id": "14cb1397",
   "metadata": {},
   "source": [
    "### DROPING total_Snow_Depth and total_Daily_Snow columns"
   ]
  },
  {
   "cell_type": "code",
   "execution_count": 124,
   "id": "b393834f",
   "metadata": {},
   "outputs": [],
   "source": [
    "primary_weather = primary_weather.drop(['total_Snow_Depth', 'total_Daily_Snow'], axis = 1)"
   ]
  },
  {
   "cell_type": "code",
   "execution_count": 125,
   "id": "dc59b55a",
   "metadata": {
    "scrolled": true
   },
   "outputs": [
    {
     "data": {
      "text/html": [
       "<div>\n",
       "<style scoped>\n",
       "    .dataframe tbody tr th:only-of-type {\n",
       "        vertical-align: middle;\n",
       "    }\n",
       "\n",
       "    .dataframe tbody tr th {\n",
       "        vertical-align: top;\n",
       "    }\n",
       "\n",
       "    .dataframe thead th {\n",
       "        text-align: right;\n",
       "    }\n",
       "</style>\n",
       "<table border=\"1\" class=\"dataframe\">\n",
       "  <thead>\n",
       "    <tr style=\"text-align: right;\">\n",
       "      <th></th>\n",
       "      <th>total_Precipitation</th>\n",
       "      <th>max_Daily_Temp</th>\n",
       "      <th>min_Daily_Temp</th>\n",
       "    </tr>\n",
       "    <tr>\n",
       "      <th>DATE</th>\n",
       "      <th></th>\n",
       "      <th></th>\n",
       "      <th></th>\n",
       "    </tr>\n",
       "  </thead>\n",
       "  <tbody>\n",
       "    <tr>\n",
       "      <th>1960-01-01</th>\n",
       "      <td>0.0</td>\n",
       "      <td>49.0</td>\n",
       "      <td>30.0</td>\n",
       "    </tr>\n",
       "    <tr>\n",
       "      <th>1960-01-02</th>\n",
       "      <td>0.0</td>\n",
       "      <td>49.0</td>\n",
       "      <td>29.0</td>\n",
       "    </tr>\n",
       "    <tr>\n",
       "      <th>1960-01-03</th>\n",
       "      <td>0.0</td>\n",
       "      <td>54.0</td>\n",
       "      <td>35.0</td>\n",
       "    </tr>\n",
       "    <tr>\n",
       "      <th>1960-01-04</th>\n",
       "      <td>0.0</td>\n",
       "      <td>54.0</td>\n",
       "      <td>36.0</td>\n",
       "    </tr>\n",
       "    <tr>\n",
       "      <th>1960-01-05</th>\n",
       "      <td>0.0</td>\n",
       "      <td>55.0</td>\n",
       "      <td>33.0</td>\n",
       "    </tr>\n",
       "    <tr>\n",
       "      <th>...</th>\n",
       "      <td>...</td>\n",
       "      <td>...</td>\n",
       "      <td>...</td>\n",
       "    </tr>\n",
       "    <tr>\n",
       "      <th>2022-01-24</th>\n",
       "      <td>0.0</td>\n",
       "      <td>60.0</td>\n",
       "      <td>39.0</td>\n",
       "    </tr>\n",
       "    <tr>\n",
       "      <th>2022-01-25</th>\n",
       "      <td>0.0</td>\n",
       "      <td>57.0</td>\n",
       "      <td>43.0</td>\n",
       "    </tr>\n",
       "    <tr>\n",
       "      <th>2022-01-26</th>\n",
       "      <td>0.0</td>\n",
       "      <td>57.0</td>\n",
       "      <td>41.0</td>\n",
       "    </tr>\n",
       "    <tr>\n",
       "      <th>2022-01-27</th>\n",
       "      <td>0.0</td>\n",
       "      <td>67.0</td>\n",
       "      <td>39.0</td>\n",
       "    </tr>\n",
       "    <tr>\n",
       "      <th>2022-01-28</th>\n",
       "      <td>0.0</td>\n",
       "      <td>64.0</td>\n",
       "      <td>39.0</td>\n",
       "    </tr>\n",
       "  </tbody>\n",
       "</table>\n",
       "<p>16859 rows × 3 columns</p>\n",
       "</div>"
      ],
      "text/plain": [
       "            total_Precipitation  max_Daily_Temp  min_Daily_Temp\n",
       "DATE                                                           \n",
       "1960-01-01                  0.0            49.0            30.0\n",
       "1960-01-02                  0.0            49.0            29.0\n",
       "1960-01-03                  0.0            54.0            35.0\n",
       "1960-01-04                  0.0            54.0            36.0\n",
       "1960-01-05                  0.0            55.0            33.0\n",
       "...                         ...             ...             ...\n",
       "2022-01-24                  0.0            60.0            39.0\n",
       "2022-01-25                  0.0            57.0            43.0\n",
       "2022-01-26                  0.0            57.0            41.0\n",
       "2022-01-27                  0.0            67.0            39.0\n",
       "2022-01-28                  0.0            64.0            39.0\n",
       "\n",
       "[16859 rows x 3 columns]"
      ]
     },
     "execution_count": 125,
     "metadata": {},
     "output_type": "execute_result"
    }
   ],
   "source": [
    "primary_weather"
   ]
  },
  {
   "cell_type": "code",
   "execution_count": 126,
   "id": "392db904",
   "metadata": {},
   "outputs": [],
   "source": [
    "# using forward fill method to fill msiisng values in min and max daily temperature\n",
    "primary_weather = primary_weather.fillna(method='ffill')"
   ]
  },
  {
   "cell_type": "code",
   "execution_count": 127,
   "id": "18f2b117",
   "metadata": {},
   "outputs": [
    {
     "data": {
      "text/plain": [
       "0"
      ]
     },
     "execution_count": 127,
     "metadata": {},
     "output_type": "execute_result"
    }
   ],
   "source": [
    "primary_weather['min_Daily_Temp'].isnull().sum()"
   ]
  },
  {
   "cell_type": "code",
   "execution_count": 128,
   "id": "159d420c",
   "metadata": {},
   "outputs": [
    {
     "data": {
      "text/plain": [
       "0"
      ]
     },
     "execution_count": 128,
     "metadata": {},
     "output_type": "execute_result"
    }
   ],
   "source": [
    "primary_weather['max_Daily_Temp'].isnull().sum()"
   ]
  },
  {
   "cell_type": "code",
   "execution_count": 129,
   "id": "f91db89e",
   "metadata": {
    "scrolled": true
   },
   "outputs": [
    {
     "name": "stdout",
     "output_type": "stream",
     "text": [
      "<class 'pandas.core.frame.DataFrame'>\n",
      "Index: 16859 entries, 1960-01-01 to 2022-01-28\n",
      "Data columns (total 3 columns):\n",
      " #   Column               Non-Null Count  Dtype  \n",
      "---  ------               --------------  -----  \n",
      " 0   total_Precipitation  16859 non-null  float64\n",
      " 1   max_Daily_Temp       16859 non-null  float64\n",
      " 2   min_Daily_Temp       16859 non-null  float64\n",
      "dtypes: float64(3)\n",
      "memory usage: 526.8+ KB\n"
     ]
    }
   ],
   "source": [
    "primary_weather.info()"
   ]
  },
  {
   "cell_type": "markdown",
   "id": "ac12f6fe",
   "metadata": {},
   "source": [
    "### Converting index 'DATE' to  datetime "
   ]
  },
  {
   "cell_type": "code",
   "execution_count": 130,
   "id": "e73d8596",
   "metadata": {},
   "outputs": [
    {
     "data": {
      "text/plain": [
       "Index(['1960-01-01', '1960-01-02', '1960-01-03', '1960-01-04', '1960-01-05',\n",
       "       '1960-01-06', '1960-01-07', '1960-01-08', '1960-01-09', '1960-01-10',\n",
       "       ...\n",
       "       '2022-01-19', '2022-01-20', '2022-01-21', '2022-01-22', '2022-01-23',\n",
       "       '2022-01-24', '2022-01-25', '2022-01-26', '2022-01-27', '2022-01-28'],\n",
       "      dtype='object', name='DATE', length=16859)"
      ]
     },
     "execution_count": 130,
     "metadata": {},
     "output_type": "execute_result"
    }
   ],
   "source": [
    "primary_weather.index"
   ]
  },
  {
   "cell_type": "code",
   "execution_count": 131,
   "id": "4af96746",
   "metadata": {},
   "outputs": [],
   "source": [
    "primary_weather.index = pd.to_datetime(primary_weather.index)"
   ]
  },
  {
   "cell_type": "code",
   "execution_count": 132,
   "id": "cf5c8166",
   "metadata": {},
   "outputs": [
    {
     "data": {
      "text/plain": [
       "DatetimeIndex(['1960-01-01', '1960-01-02', '1960-01-03', '1960-01-04',\n",
       "               '1960-01-05', '1960-01-06', '1960-01-07', '1960-01-08',\n",
       "               '1960-01-09', '1960-01-10',\n",
       "               ...\n",
       "               '2022-01-19', '2022-01-20', '2022-01-21', '2022-01-22',\n",
       "               '2022-01-23', '2022-01-24', '2022-01-25', '2022-01-26',\n",
       "               '2022-01-27', '2022-01-28'],\n",
       "              dtype='datetime64[ns]', name='DATE', length=16859, freq=None)"
      ]
     },
     "execution_count": 132,
     "metadata": {},
     "output_type": "execute_result"
    }
   ],
   "source": [
    "primary_weather.index"
   ]
  },
  {
   "cell_type": "markdown",
   "id": "ad17e989",
   "metadata": {},
   "source": [
    "## Exploring primary_weather Dataframe "
   ]
  },
  {
   "cell_type": "markdown",
   "id": "7652e6de",
   "metadata": {},
   "source": [
    "plotting max_Temp and min_Temp to visualize weather trends"
   ]
  },
  {
   "cell_type": "code",
   "execution_count": 133,
   "id": "262aa261",
   "metadata": {},
   "outputs": [
    {
     "data": {
      "text/plain": [
       "<AxesSubplot:xlabel='DATE'>"
      ]
     },
     "execution_count": 133,
     "metadata": {},
     "output_type": "execute_result"
    },
    {
     "data": {
      "image/png": "[encoded data removed]",
      "text/plain": [
       "<Figure size 432x288 with 1 Axes>"
      ]
     },
     "metadata": {
      "needs_background": "light"
     },
     "output_type": "display_data"
    }
   ],
   "source": [
    "primary_weather[['max_Daily_Temp', 'min_Daily_Temp']].plot()"
   ]
  },
  {
   "cell_type": "markdown",
   "id": "0a4b2cf0",
   "metadata": {},
   "source": [
    "Looks like we are missing some data between year 1990 and 2000"
   ]
  },
  {
   "cell_type": "markdown",
   "id": "3bbe4ba8",
   "metadata": {},
   "source": [
    "### plotting 'total_Precipitation' to visualize missing data "
   ]
  },
  {
   "cell_type": "code",
   "execution_count": 134,
   "id": "2513392b",
   "metadata": {
    "scrolled": true
   },
   "outputs": [
    {
     "data": {
      "text/plain": [
       "<AxesSubplot:xlabel='DATE', ylabel='total_Precipitation'>"
      ]
     },
     "execution_count": 134,
     "metadata": {},
     "output_type": "execute_result"
    },
    {
     "data": {
      "image/png": "[encoded data removed]",
      "text/plain": [
       "<Figure size 432x288 with 1 Axes>"
      ]
     },
     "metadata": {
      "needs_background": "light"
     },
     "output_type": "display_data"
    }
   ],
   "source": [
    "sns.histplot(data = primary_weather, x = 'DATE', y = 'total_Precipitation')"
   ]
  },
  {
   "cell_type": "code",
   "execution_count": 135,
   "id": "2308b888",
   "metadata": {},
   "outputs": [
    {
     "data": {
      "text/plain": [
       "<AxesSubplot:xlabel='DATE', ylabel='Density'>"
      ]
     },
     "execution_count": 135,
     "metadata": {},
     "output_type": "execute_result"
    },
    {
     "data": {
      "image/png": "[encoded data removed]",
      "text/plain": [
       "<Figure size 432x288 with 1 Axes>"
      ]
     },
     "metadata": {
      "needs_background": "light"
     },
     "output_type": "display_data"
    }
   ],
   "source": [
    "sns.kdeplot(primary_weather.index.year, bw_adjust= 0.1)"
   ]
  },
  {
   "cell_type": "markdown",
   "id": "3d3c63f3",
   "metadata": {},
   "source": [
    "### Creating a new column for prediction model"
   ]
  },
  {
   "cell_type": "code",
   "execution_count": 136,
   "id": "a778daf8",
   "metadata": {},
   "outputs": [],
   "source": [
    "primary_weather['target'] = primary_weather['max_Daily_Temp'].shift(-1)"
   ]
  },
  {
   "cell_type": "code",
   "execution_count": 137,
   "id": "4ab6cfd4",
   "metadata": {
    "scrolled": true
   },
   "outputs": [
    {
     "data": {
      "text/html": [
       "<div>\n",
       "<style scoped>\n",
       "    .dataframe tbody tr th:only-of-type {\n",
       "        vertical-align: middle;\n",
       "    }\n",
       "\n",
       "    .dataframe tbody tr th {\n",
       "        vertical-align: top;\n",
       "    }\n",
       "\n",
       "    .dataframe thead th {\n",
       "        text-align: right;\n",
       "    }\n",
       "</style>\n",
       "<table border=\"1\" class=\"dataframe\">\n",
       "  <thead>\n",
       "    <tr style=\"text-align: right;\">\n",
       "      <th></th>\n",
       "      <th>total_Precipitation</th>\n",
       "      <th>max_Daily_Temp</th>\n",
       "      <th>min_Daily_Temp</th>\n",
       "      <th>target</th>\n",
       "    </tr>\n",
       "    <tr>\n",
       "      <th>DATE</th>\n",
       "      <th></th>\n",
       "      <th></th>\n",
       "      <th></th>\n",
       "      <th></th>\n",
       "    </tr>\n",
       "  </thead>\n",
       "  <tbody>\n",
       "    <tr>\n",
       "      <th>1960-01-01</th>\n",
       "      <td>0.0</td>\n",
       "      <td>49.0</td>\n",
       "      <td>30.0</td>\n",
       "      <td>49.0</td>\n",
       "    </tr>\n",
       "    <tr>\n",
       "      <th>1960-01-02</th>\n",
       "      <td>0.0</td>\n",
       "      <td>49.0</td>\n",
       "      <td>29.0</td>\n",
       "      <td>54.0</td>\n",
       "    </tr>\n",
       "    <tr>\n",
       "      <th>1960-01-03</th>\n",
       "      <td>0.0</td>\n",
       "      <td>54.0</td>\n",
       "      <td>35.0</td>\n",
       "      <td>54.0</td>\n",
       "    </tr>\n",
       "    <tr>\n",
       "      <th>1960-01-04</th>\n",
       "      <td>0.0</td>\n",
       "      <td>54.0</td>\n",
       "      <td>36.0</td>\n",
       "      <td>55.0</td>\n",
       "    </tr>\n",
       "    <tr>\n",
       "      <th>1960-01-05</th>\n",
       "      <td>0.0</td>\n",
       "      <td>55.0</td>\n",
       "      <td>33.0</td>\n",
       "      <td>53.0</td>\n",
       "    </tr>\n",
       "    <tr>\n",
       "      <th>...</th>\n",
       "      <td>...</td>\n",
       "      <td>...</td>\n",
       "      <td>...</td>\n",
       "      <td>...</td>\n",
       "    </tr>\n",
       "    <tr>\n",
       "      <th>2022-01-24</th>\n",
       "      <td>0.0</td>\n",
       "      <td>60.0</td>\n",
       "      <td>39.0</td>\n",
       "      <td>57.0</td>\n",
       "    </tr>\n",
       "    <tr>\n",
       "      <th>2022-01-25</th>\n",
       "      <td>0.0</td>\n",
       "      <td>57.0</td>\n",
       "      <td>43.0</td>\n",
       "      <td>57.0</td>\n",
       "    </tr>\n",
       "    <tr>\n",
       "      <th>2022-01-26</th>\n",
       "      <td>0.0</td>\n",
       "      <td>57.0</td>\n",
       "      <td>41.0</td>\n",
       "      <td>67.0</td>\n",
       "    </tr>\n",
       "    <tr>\n",
       "      <th>2022-01-27</th>\n",
       "      <td>0.0</td>\n",
       "      <td>67.0</td>\n",
       "      <td>39.0</td>\n",
       "      <td>64.0</td>\n",
       "    </tr>\n",
       "    <tr>\n",
       "      <th>2022-01-28</th>\n",
       "      <td>0.0</td>\n",
       "      <td>64.0</td>\n",
       "      <td>39.0</td>\n",
       "      <td>NaN</td>\n",
       "    </tr>\n",
       "  </tbody>\n",
       "</table>\n",
       "<p>16859 rows × 4 columns</p>\n",
       "</div>"
      ],
      "text/plain": [
       "            total_Precipitation  max_Daily_Temp  min_Daily_Temp  target\n",
       "DATE                                                                   \n",
       "1960-01-01                  0.0            49.0            30.0    49.0\n",
       "1960-01-02                  0.0            49.0            29.0    54.0\n",
       "1960-01-03                  0.0            54.0            35.0    54.0\n",
       "1960-01-04                  0.0            54.0            36.0    55.0\n",
       "1960-01-05                  0.0            55.0            33.0    53.0\n",
       "...                         ...             ...             ...     ...\n",
       "2022-01-24                  0.0            60.0            39.0    57.0\n",
       "2022-01-25                  0.0            57.0            43.0    57.0\n",
       "2022-01-26                  0.0            57.0            41.0    67.0\n",
       "2022-01-27                  0.0            67.0            39.0    64.0\n",
       "2022-01-28                  0.0            64.0            39.0     NaN\n",
       "\n",
       "[16859 rows x 4 columns]"
      ]
     },
     "execution_count": 137,
     "metadata": {},
     "output_type": "execute_result"
    }
   ],
   "source": [
    "primary_weather"
   ]
  },
  {
   "cell_type": "code",
   "execution_count": 138,
   "id": "1a1edec3",
   "metadata": {},
   "outputs": [
    {
     "data": {
      "text/plain": [
       "total_Precipitation   -0.206608\n",
       "max_Daily_Temp         0.822091\n",
       "min_Daily_Temp         0.597027\n",
       "target                 1.000000\n",
       "Name: target, dtype: float64"
      ]
     },
     "execution_count": 138,
     "metadata": {},
     "output_type": "execute_result"
    }
   ],
   "source": [
    "primary_weather.corr()['target']"
   ]
  },
  {
   "cell_type": "code",
   "execution_count": 139,
   "id": "20f6acb5",
   "metadata": {},
   "outputs": [],
   "source": [
    "# deleting last row from Dataframe\n",
    "primary_weather = primary_weather.iloc[:-1]"
   ]
  },
  {
   "cell_type": "code",
   "execution_count": 140,
   "id": "16f2b708",
   "metadata": {},
   "outputs": [
    {
     "data": {
      "text/html": [
       "<div>\n",
       "<style scoped>\n",
       "    .dataframe tbody tr th:only-of-type {\n",
       "        vertical-align: middle;\n",
       "    }\n",
       "\n",
       "    .dataframe tbody tr th {\n",
       "        vertical-align: top;\n",
       "    }\n",
       "\n",
       "    .dataframe thead th {\n",
       "        text-align: right;\n",
       "    }\n",
       "</style>\n",
       "<table border=\"1\" class=\"dataframe\">\n",
       "  <thead>\n",
       "    <tr style=\"text-align: right;\">\n",
       "      <th></th>\n",
       "      <th>total_Precipitation</th>\n",
       "      <th>max_Daily_Temp</th>\n",
       "      <th>min_Daily_Temp</th>\n",
       "      <th>target</th>\n",
       "    </tr>\n",
       "    <tr>\n",
       "      <th>DATE</th>\n",
       "      <th></th>\n",
       "      <th></th>\n",
       "      <th></th>\n",
       "      <th></th>\n",
       "    </tr>\n",
       "  </thead>\n",
       "  <tbody>\n",
       "    <tr>\n",
       "      <th>1960-01-01</th>\n",
       "      <td>0.0</td>\n",
       "      <td>49.0</td>\n",
       "      <td>30.0</td>\n",
       "      <td>49.0</td>\n",
       "    </tr>\n",
       "    <tr>\n",
       "      <th>1960-01-02</th>\n",
       "      <td>0.0</td>\n",
       "      <td>49.0</td>\n",
       "      <td>29.0</td>\n",
       "      <td>54.0</td>\n",
       "    </tr>\n",
       "    <tr>\n",
       "      <th>1960-01-03</th>\n",
       "      <td>0.0</td>\n",
       "      <td>54.0</td>\n",
       "      <td>35.0</td>\n",
       "      <td>54.0</td>\n",
       "    </tr>\n",
       "    <tr>\n",
       "      <th>1960-01-04</th>\n",
       "      <td>0.0</td>\n",
       "      <td>54.0</td>\n",
       "      <td>36.0</td>\n",
       "      <td>55.0</td>\n",
       "    </tr>\n",
       "    <tr>\n",
       "      <th>1960-01-05</th>\n",
       "      <td>0.0</td>\n",
       "      <td>55.0</td>\n",
       "      <td>33.0</td>\n",
       "      <td>53.0</td>\n",
       "    </tr>\n",
       "    <tr>\n",
       "      <th>...</th>\n",
       "      <td>...</td>\n",
       "      <td>...</td>\n",
       "      <td>...</td>\n",
       "      <td>...</td>\n",
       "    </tr>\n",
       "    <tr>\n",
       "      <th>2022-01-23</th>\n",
       "      <td>0.0</td>\n",
       "      <td>60.0</td>\n",
       "      <td>41.0</td>\n",
       "      <td>60.0</td>\n",
       "    </tr>\n",
       "    <tr>\n",
       "      <th>2022-01-24</th>\n",
       "      <td>0.0</td>\n",
       "      <td>60.0</td>\n",
       "      <td>39.0</td>\n",
       "      <td>57.0</td>\n",
       "    </tr>\n",
       "    <tr>\n",
       "      <th>2022-01-25</th>\n",
       "      <td>0.0</td>\n",
       "      <td>57.0</td>\n",
       "      <td>43.0</td>\n",
       "      <td>57.0</td>\n",
       "    </tr>\n",
       "    <tr>\n",
       "      <th>2022-01-26</th>\n",
       "      <td>0.0</td>\n",
       "      <td>57.0</td>\n",
       "      <td>41.0</td>\n",
       "      <td>67.0</td>\n",
       "    </tr>\n",
       "    <tr>\n",
       "      <th>2022-01-27</th>\n",
       "      <td>0.0</td>\n",
       "      <td>67.0</td>\n",
       "      <td>39.0</td>\n",
       "      <td>64.0</td>\n",
       "    </tr>\n",
       "  </tbody>\n",
       "</table>\n",
       "<p>16858 rows × 4 columns</p>\n",
       "</div>"
      ],
      "text/plain": [
       "            total_Precipitation  max_Daily_Temp  min_Daily_Temp  target\n",
       "DATE                                                                   \n",
       "1960-01-01                  0.0            49.0            30.0    49.0\n",
       "1960-01-02                  0.0            49.0            29.0    54.0\n",
       "1960-01-03                  0.0            54.0            35.0    54.0\n",
       "1960-01-04                  0.0            54.0            36.0    55.0\n",
       "1960-01-05                  0.0            55.0            33.0    53.0\n",
       "...                         ...             ...             ...     ...\n",
       "2022-01-23                  0.0            60.0            41.0    60.0\n",
       "2022-01-24                  0.0            60.0            39.0    57.0\n",
       "2022-01-25                  0.0            57.0            43.0    57.0\n",
       "2022-01-26                  0.0            57.0            41.0    67.0\n",
       "2022-01-27                  0.0            67.0            39.0    64.0\n",
       "\n",
       "[16858 rows x 4 columns]"
      ]
     },
     "execution_count": 140,
     "metadata": {},
     "output_type": "execute_result"
    }
   ],
   "source": [
    "primary_weather"
   ]
  },
  {
   "cell_type": "markdown",
   "id": "ad631279",
   "metadata": {},
   "source": [
    "# Performing Machine Learning Task"
   ]
  },
  {
   "cell_type": "markdown",
   "id": "270ca9ad",
   "metadata": {},
   "source": [
    "## Splitting data into feature values and target values"
   ]
  },
  {
   "cell_type": "code",
   "execution_count": 141,
   "id": "96ae0a8f",
   "metadata": {},
   "outputs": [],
   "source": [
    "# Feature Vector\n",
    "X = primary_weather.drop('target', axis = 1)"
   ]
  },
  {
   "cell_type": "code",
   "execution_count": 142,
   "id": "9ba4b077",
   "metadata": {},
   "outputs": [],
   "source": [
    "# Prediction vector\n",
    "y = primary_weather['target']"
   ]
  },
  {
   "cell_type": "markdown",
   "id": "a234ebbe",
   "metadata": {},
   "source": [
    "### Permorming Train|Test split"
   ]
  },
  {
   "cell_type": "code",
   "execution_count": 143,
   "id": "d4eadd56",
   "metadata": {},
   "outputs": [],
   "source": [
    "from sklearn.model_selection import train_test_split"
   ]
  },
  {
   "cell_type": "code",
   "execution_count": 144,
   "id": "b33466c9",
   "metadata": {},
   "outputs": [],
   "source": [
    "X_train, X_test, y_train, y_test = train_test_split(X, y, test_size=0.3, random_state=101)"
   ]
  },
  {
   "cell_type": "code",
   "execution_count": 145,
   "id": "c9e5dd12",
   "metadata": {},
   "outputs": [],
   "source": [
    "# scaling data to resize data distribution\n",
    "from sklearn.preprocessing import StandardScaler"
   ]
  },
  {
   "cell_type": "code",
   "execution_count": 146,
   "id": "bc07d0bb",
   "metadata": {},
   "outputs": [],
   "source": [
    "scalar = StandardScaler()"
   ]
  },
  {
   "cell_type": "code",
   "execution_count": 147,
   "id": "53fb2daf",
   "metadata": {},
   "outputs": [
    {
     "data": {
      "text/plain": [
       "StandardScaler()"
      ]
     },
     "execution_count": 147,
     "metadata": {},
     "output_type": "execute_result"
    }
   ],
   "source": [
    "scalar.fit(X_train)"
   ]
  },
  {
   "cell_type": "code",
   "execution_count": 148,
   "id": "1fefd1e8",
   "metadata": {},
   "outputs": [],
   "source": [
    "X_train_sc = scalar.transform(X_train)\n",
    "X_test_sc = scalar.transform(X_test)"
   ]
  },
  {
   "cell_type": "markdown",
   "id": "d2bd9de9",
   "metadata": {},
   "source": [
    "#### using Ridge linear model for model prediction"
   ]
  },
  {
   "cell_type": "code",
   "execution_count": 149,
   "id": "f9599d14",
   "metadata": {},
   "outputs": [],
   "source": [
    "from sklearn.linear_model import Ridge"
   ]
  },
  {
   "cell_type": "code",
   "execution_count": 150,
   "id": "087ae8f9",
   "metadata": {},
   "outputs": [],
   "source": [
    "model = Ridge(alpha=0.1)"
   ]
  },
  {
   "cell_type": "code",
   "execution_count": 151,
   "id": "b7cf3837",
   "metadata": {},
   "outputs": [
    {
     "data": {
      "text/plain": [
       "Ridge(alpha=0.1)"
      ]
     },
     "execution_count": 151,
     "metadata": {},
     "output_type": "execute_result"
    }
   ],
   "source": [
    "# fitting data \n",
    "model.fit(X_train_sc, y_train)"
   ]
  },
  {
   "cell_type": "code",
   "execution_count": 152,
   "id": "b69c89c9",
   "metadata": {},
   "outputs": [],
   "source": [
    "# performing prediction task\n",
    "model_pred = model.predict(X_test_sc)"
   ]
  },
  {
   "cell_type": "code",
   "execution_count": 153,
   "id": "21d8091f",
   "metadata": {},
   "outputs": [],
   "source": [
    "from sklearn.metrics import mean_absolute_error, mean_squared_error"
   ]
  },
  {
   "cell_type": "code",
   "execution_count": 154,
   "id": "4052d61b",
   "metadata": {},
   "outputs": [],
   "source": [
    "# mean_absolute_error\n",
    "MAE = mean_absolute_error(model_pred, y_test)"
   ]
  },
  {
   "cell_type": "code",
   "execution_count": 155,
   "id": "8319d44f",
   "metadata": {},
   "outputs": [
    {
     "data": {
      "text/plain": [
       "3.391493285042333"
      ]
     },
     "execution_count": 155,
     "metadata": {},
     "output_type": "execute_result"
    }
   ],
   "source": [
    "MAE"
   ]
  },
  {
   "cell_type": "markdown",
   "id": "2921ef0a",
   "metadata": {},
   "source": [
    "Average error in our prediction model is 3.39"
   ]
  },
  {
   "cell_type": "code",
   "execution_count": 156,
   "id": "ae070286",
   "metadata": {},
   "outputs": [],
   "source": [
    "# mean_squared_error\n",
    "MSE = mean_squared_error(model_pred, y_test)"
   ]
  },
  {
   "cell_type": "code",
   "execution_count": 157,
   "id": "01d641d5",
   "metadata": {},
   "outputs": [],
   "source": [
    "combined = pd.concat([y_test, pd.Series(model_pred, index = X_test.index)], axis = 1)\n",
    "combined.columns = ['target', 'predict']"
   ]
  },
  {
   "cell_type": "code",
   "execution_count": 158,
   "id": "a222bfbc",
   "metadata": {},
   "outputs": [
    {
     "data": {
      "text/html": [
       "<div>\n",
       "<style scoped>\n",
       "    .dataframe tbody tr th:only-of-type {\n",
       "        vertical-align: middle;\n",
       "    }\n",
       "\n",
       "    .dataframe tbody tr th {\n",
       "        vertical-align: top;\n",
       "    }\n",
       "\n",
       "    .dataframe thead th {\n",
       "        text-align: right;\n",
       "    }\n",
       "</style>\n",
       "<table border=\"1\" class=\"dataframe\">\n",
       "  <thead>\n",
       "    <tr style=\"text-align: right;\">\n",
       "      <th></th>\n",
       "      <th>target</th>\n",
       "      <th>predict</th>\n",
       "    </tr>\n",
       "    <tr>\n",
       "      <th>DATE</th>\n",
       "      <th></th>\n",
       "      <th></th>\n",
       "    </tr>\n",
       "  </thead>\n",
       "  <tbody>\n",
       "    <tr>\n",
       "      <th>2013-03-01</th>\n",
       "      <td>68.0</td>\n",
       "      <td>69.232114</td>\n",
       "    </tr>\n",
       "    <tr>\n",
       "      <th>1970-02-20</th>\n",
       "      <td>62.0</td>\n",
       "      <td>65.690543</td>\n",
       "    </tr>\n",
       "    <tr>\n",
       "      <th>2015-08-22</th>\n",
       "      <td>73.0</td>\n",
       "      <td>74.393464</td>\n",
       "    </tr>\n",
       "    <tr>\n",
       "      <th>2009-02-28</th>\n",
       "      <td>62.0</td>\n",
       "      <td>62.718298</td>\n",
       "    </tr>\n",
       "    <tr>\n",
       "      <th>1986-04-07</th>\n",
       "      <td>69.0</td>\n",
       "      <td>66.551219</td>\n",
       "    </tr>\n",
       "    <tr>\n",
       "      <th>...</th>\n",
       "      <td>...</td>\n",
       "      <td>...</td>\n",
       "    </tr>\n",
       "    <tr>\n",
       "      <th>2016-09-26</th>\n",
       "      <td>84.0</td>\n",
       "      <td>87.610872</td>\n",
       "    </tr>\n",
       "    <tr>\n",
       "      <th>1962-01-08</th>\n",
       "      <td>73.0</td>\n",
       "      <td>71.167281</td>\n",
       "    </tr>\n",
       "    <tr>\n",
       "      <th>2016-05-11</th>\n",
       "      <td>66.0</td>\n",
       "      <td>67.208746</td>\n",
       "    </tr>\n",
       "    <tr>\n",
       "      <th>2019-02-24</th>\n",
       "      <td>58.0</td>\n",
       "      <td>58.607400</td>\n",
       "    </tr>\n",
       "    <tr>\n",
       "      <th>2020-02-19</th>\n",
       "      <td>68.0</td>\n",
       "      <td>64.602677</td>\n",
       "    </tr>\n",
       "  </tbody>\n",
       "</table>\n",
       "<p>5058 rows × 2 columns</p>\n",
       "</div>"
      ],
      "text/plain": [
       "            target    predict\n",
       "DATE                         \n",
       "2013-03-01    68.0  69.232114\n",
       "1970-02-20    62.0  65.690543\n",
       "2015-08-22    73.0  74.393464\n",
       "2009-02-28    62.0  62.718298\n",
       "1986-04-07    69.0  66.551219\n",
       "...            ...        ...\n",
       "2016-09-26    84.0  87.610872\n",
       "1962-01-08    73.0  71.167281\n",
       "2016-05-11    66.0  67.208746\n",
       "2019-02-24    58.0  58.607400\n",
       "2020-02-19    68.0  64.602677\n",
       "\n",
       "[5058 rows x 2 columns]"
      ]
     },
     "execution_count": 158,
     "metadata": {},
     "output_type": "execute_result"
    }
   ],
   "source": [
    "combined"
   ]
  },
  {
   "cell_type": "code",
   "execution_count": 159,
   "id": "2e71dc94",
   "metadata": {},
   "outputs": [
    {
     "data": {
      "text/plain": [
       "<AxesSubplot:xlabel='DATE'>"
      ]
     },
     "execution_count": 159,
     "metadata": {},
     "output_type": "execute_result"
    },
    {
     "data": {
      "image/png": "[encoded data removed]",
      "text/plain": [
       "<Figure size 720x288 with 1 Axes>"
      ]
     },
     "metadata": {
      "needs_background": "light"
     },
     "output_type": "display_data"
    }
   ],
   "source": [
    "combined.plot(figsize = (10, 4))"
   ]
  },
  {
   "cell_type": "code",
   "execution_count": 160,
   "id": "258d9ccf",
   "metadata": {
    "scrolled": true
   },
   "outputs": [
    {
     "data": {
      "text/html": [
       "<div>\n",
       "<style scoped>\n",
       "    .dataframe tbody tr th:only-of-type {\n",
       "        vertical-align: middle;\n",
       "    }\n",
       "\n",
       "    .dataframe tbody tr th {\n",
       "        vertical-align: top;\n",
       "    }\n",
       "\n",
       "    .dataframe thead th {\n",
       "        text-align: right;\n",
       "    }\n",
       "</style>\n",
       "<table border=\"1\" class=\"dataframe\">\n",
       "  <thead>\n",
       "    <tr style=\"text-align: right;\">\n",
       "      <th></th>\n",
       "      <th>target</th>\n",
       "      <th>predict</th>\n",
       "      <th>differ</th>\n",
       "    </tr>\n",
       "    <tr>\n",
       "      <th>DATE</th>\n",
       "      <th></th>\n",
       "      <th></th>\n",
       "      <th></th>\n",
       "    </tr>\n",
       "  </thead>\n",
       "  <tbody>\n",
       "    <tr>\n",
       "      <th>1961-06-13</th>\n",
       "      <td>104.0</td>\n",
       "      <td>76.088068</td>\n",
       "      <td>27.911932</td>\n",
       "    </tr>\n",
       "    <tr>\n",
       "      <th>2020-09-26</th>\n",
       "      <td>99.0</td>\n",
       "      <td>77.555484</td>\n",
       "      <td>21.444516</td>\n",
       "    </tr>\n",
       "    <tr>\n",
       "      <th>2010-08-22</th>\n",
       "      <td>95.0</td>\n",
       "      <td>73.963125</td>\n",
       "      <td>21.036875</td>\n",
       "    </tr>\n",
       "    <tr>\n",
       "      <th>2009-09-24</th>\n",
       "      <td>79.0</td>\n",
       "      <td>58.048737</td>\n",
       "      <td>20.951263</td>\n",
       "    </tr>\n",
       "    <tr>\n",
       "      <th>1969-05-04</th>\n",
       "      <td>87.0</td>\n",
       "      <td>66.968183</td>\n",
       "      <td>20.031817</td>\n",
       "    </tr>\n",
       "    <tr>\n",
       "      <th>...</th>\n",
       "      <td>...</td>\n",
       "      <td>...</td>\n",
       "      <td>...</td>\n",
       "    </tr>\n",
       "    <tr>\n",
       "      <th>2020-05-13</th>\n",
       "      <td>69.0</td>\n",
       "      <td>69.004926</td>\n",
       "      <td>0.004926</td>\n",
       "    </tr>\n",
       "    <tr>\n",
       "      <th>1961-03-05</th>\n",
       "      <td>57.0</td>\n",
       "      <td>57.004854</td>\n",
       "      <td>0.004854</td>\n",
       "    </tr>\n",
       "    <tr>\n",
       "      <th>1976-06-08</th>\n",
       "      <td>64.0</td>\n",
       "      <td>63.995938</td>\n",
       "      <td>0.004062</td>\n",
       "    </tr>\n",
       "    <tr>\n",
       "      <th>1970-03-14</th>\n",
       "      <td>65.0</td>\n",
       "      <td>65.001173</td>\n",
       "      <td>0.001173</td>\n",
       "    </tr>\n",
       "    <tr>\n",
       "      <th>1977-09-04</th>\n",
       "      <td>76.0</td>\n",
       "      <td>75.999868</td>\n",
       "      <td>0.000132</td>\n",
       "    </tr>\n",
       "  </tbody>\n",
       "</table>\n",
       "<p>5058 rows × 3 columns</p>\n",
       "</div>"
      ],
      "text/plain": [
       "            target    predict     differ\n",
       "DATE                                    \n",
       "1961-06-13   104.0  76.088068  27.911932\n",
       "2020-09-26    99.0  77.555484  21.444516\n",
       "2010-08-22    95.0  73.963125  21.036875\n",
       "2009-09-24    79.0  58.048737  20.951263\n",
       "1969-05-04    87.0  66.968183  20.031817\n",
       "...            ...        ...        ...\n",
       "2020-05-13    69.0  69.004926   0.004926\n",
       "1961-03-05    57.0  57.004854   0.004854\n",
       "1976-06-08    64.0  63.995938   0.004062\n",
       "1970-03-14    65.0  65.001173   0.001173\n",
       "1977-09-04    76.0  75.999868   0.000132\n",
       "\n",
       "[5058 rows x 3 columns]"
      ]
     },
     "execution_count": 160,
     "metadata": {},
     "output_type": "execute_result"
    }
   ],
   "source": [
    "combined['differ'] = (combined['target'] - combined['predict']).abs()\n",
    "combined.sort_values('differ', ascending=False)"
   ]
  },
  {
   "cell_type": "markdown",
   "id": "612706a5",
   "metadata": {},
   "source": [
    "Our model is not best suited for outliers like sudden change in climate, but in most cases it is performing well\n"
   ]
  },
  {
   "cell_type": "markdown",
   "id": "042c5505",
   "metadata": {},
   "source": [
    "#### defining function for prediction model for user convinence "
   ]
  },
  {
   "cell_type": "code",
   "execution_count": 161,
   "id": "0c99165c",
   "metadata": {},
   "outputs": [],
   "source": [
    "def prediction_model(X, primary_weather, model):\n",
    "    X_train, X_test, y_train, y_test = train_test_split(X, y, test_size=0.3, random_state=101)\n",
    "    scalar.fit(X_train)\n",
    "    X_train_sc = scalar.transform(X_train)\n",
    "    X_test_sc = scalar.transform(X_test)\n",
    "    model.fit(X_train_sc, y_train)\n",
    "    model_pred = model.predict(X_test_sc)\n",
    "    error = mean_absolute_error(model_pred, y_test)\n",
    "    sq_error = mean_squared_error(model_pred, y_test)\n",
    "    pred_comb = pd.concat([y_test, pd.Series(model_pred, index = X_test.index)], axis = 1)\n",
    "    pred_comb.columns = ['target', 'prediction']\n",
    "    return error, sq_error, combined\n"
   ]
  },
  {
   "cell_type": "code",
   "execution_count": 162,
   "id": "2975b845",
   "metadata": {},
   "outputs": [],
   "source": [
    "#### Adding features to improve model outcome"
   ]
  },
  {
   "cell_type": "code",
   "execution_count": 163,
   "id": "a4bcb39d",
   "metadata": {
    "scrolled": true
   },
   "outputs": [
    {
     "name": "stderr",
     "output_type": "stream",
     "text": [
      "/var/folders/ld/984t852d7kx65v4rkqstw9p00000gn/T/ipykernel_5308/2873650315.py:1: SettingWithCopyWarning: \n",
      "A value is trying to be set on a copy of a slice from a DataFrame.\n",
      "Try using .loc[row_indexer,col_indexer] = value instead\n",
      "\n",
      "See the caveats in the documentation: https://pandas.pydata.org/pandas-docs/stable/user_guide/indexing.html#returning-a-view-versus-a-copy\n",
      "  primary_weather[\"month_max\"] = primary_weather[\"max_Daily_Temp\"].rolling(30).mean()\n",
      "/var/folders/ld/984t852d7kx65v4rkqstw9p00000gn/T/ipykernel_5308/2873650315.py:3: SettingWithCopyWarning: \n",
      "A value is trying to be set on a copy of a slice from a DataFrame.\n",
      "Try using .loc[row_indexer,col_indexer] = value instead\n",
      "\n",
      "See the caveats in the documentation: https://pandas.pydata.org/pandas-docs/stable/user_guide/indexing.html#returning-a-view-versus-a-copy\n",
      "  primary_weather[\"month_day_max\"] = primary_weather[\"month_max\"] / primary_weather[\"max_Daily_Temp\"]\n",
      "/var/folders/ld/984t852d7kx65v4rkqstw9p00000gn/T/ipykernel_5308/2873650315.py:5: SettingWithCopyWarning: \n",
      "A value is trying to be set on a copy of a slice from a DataFrame.\n",
      "Try using .loc[row_indexer,col_indexer] = value instead\n",
      "\n",
      "See the caveats in the documentation: https://pandas.pydata.org/pandas-docs/stable/user_guide/indexing.html#returning-a-view-versus-a-copy\n",
      "  primary_weather[\"max_min\"] = primary_weather[\"max_Daily_Temp\"] / primary_weather[\"min_Daily_Temp\"]\n"
     ]
    }
   ],
   "source": [
    "primary_weather[\"month_max\"] = primary_weather[\"max_Daily_Temp\"].rolling(30).mean()\n",
    "\n",
    "primary_weather[\"month_day_max\"] = primary_weather[\"month_max\"] / primary_weather[\"max_Daily_Temp\"]\n",
    "\n",
    "primary_weather[\"max_min\"] = primary_weather[\"max_Daily_Temp\"] / primary_weather[\"min_Daily_Temp\"]\n",
    "\n",
    "#primary_weather[\"week_max\"] = primary_weather[\"max_Daily_Temp\"].rolling(7).mean()\n"
   ]
  },
  {
   "cell_type": "code",
   "execution_count": 164,
   "id": "6deb4e0d",
   "metadata": {},
   "outputs": [],
   "source": [
    "primary_weather = primary_weather.iloc[30:,:]\n"
   ]
  },
  {
   "cell_type": "code",
   "execution_count": 165,
   "id": "b2a0229a",
   "metadata": {},
   "outputs": [
    {
     "data": {
      "text/html": [
       "<div>\n",
       "<style scoped>\n",
       "    .dataframe tbody tr th:only-of-type {\n",
       "        vertical-align: middle;\n",
       "    }\n",
       "\n",
       "    .dataframe tbody tr th {\n",
       "        vertical-align: top;\n",
       "    }\n",
       "\n",
       "    .dataframe thead th {\n",
       "        text-align: right;\n",
       "    }\n",
       "</style>\n",
       "<table border=\"1\" class=\"dataframe\">\n",
       "  <thead>\n",
       "    <tr style=\"text-align: right;\">\n",
       "      <th></th>\n",
       "      <th>total_Precipitation</th>\n",
       "      <th>max_Daily_Temp</th>\n",
       "      <th>min_Daily_Temp</th>\n",
       "      <th>target</th>\n",
       "      <th>month_max</th>\n",
       "      <th>month_day_max</th>\n",
       "      <th>max_min</th>\n",
       "    </tr>\n",
       "    <tr>\n",
       "      <th>DATE</th>\n",
       "      <th></th>\n",
       "      <th></th>\n",
       "      <th></th>\n",
       "      <th></th>\n",
       "      <th></th>\n",
       "      <th></th>\n",
       "      <th></th>\n",
       "    </tr>\n",
       "  </thead>\n",
       "  <tbody>\n",
       "    <tr>\n",
       "      <th>1960-01-31</th>\n",
       "      <td>0.00</td>\n",
       "      <td>59.0</td>\n",
       "      <td>46.0</td>\n",
       "      <td>62.0</td>\n",
       "      <td>55.566667</td>\n",
       "      <td>0.941808</td>\n",
       "      <td>1.282609</td>\n",
       "    </tr>\n",
       "    <tr>\n",
       "      <th>1960-02-01</th>\n",
       "      <td>0.81</td>\n",
       "      <td>62.0</td>\n",
       "      <td>51.0</td>\n",
       "      <td>59.0</td>\n",
       "      <td>56.000000</td>\n",
       "      <td>0.903226</td>\n",
       "      <td>1.215686</td>\n",
       "    </tr>\n",
       "    <tr>\n",
       "      <th>1960-02-02</th>\n",
       "      <td>0.00</td>\n",
       "      <td>59.0</td>\n",
       "      <td>43.0</td>\n",
       "      <td>59.0</td>\n",
       "      <td>56.166667</td>\n",
       "      <td>0.951977</td>\n",
       "      <td>1.372093</td>\n",
       "    </tr>\n",
       "    <tr>\n",
       "      <th>1960-02-03</th>\n",
       "      <td>0.20</td>\n",
       "      <td>59.0</td>\n",
       "      <td>47.0</td>\n",
       "      <td>60.0</td>\n",
       "      <td>56.333333</td>\n",
       "      <td>0.954802</td>\n",
       "      <td>1.255319</td>\n",
       "    </tr>\n",
       "    <tr>\n",
       "      <th>1960-02-04</th>\n",
       "      <td>0.16</td>\n",
       "      <td>60.0</td>\n",
       "      <td>42.0</td>\n",
       "      <td>60.0</td>\n",
       "      <td>56.500000</td>\n",
       "      <td>0.941667</td>\n",
       "      <td>1.428571</td>\n",
       "    </tr>\n",
       "    <tr>\n",
       "      <th>...</th>\n",
       "      <td>...</td>\n",
       "      <td>...</td>\n",
       "      <td>...</td>\n",
       "      <td>...</td>\n",
       "      <td>...</td>\n",
       "      <td>...</td>\n",
       "      <td>...</td>\n",
       "    </tr>\n",
       "    <tr>\n",
       "      <th>2022-01-23</th>\n",
       "      <td>0.00</td>\n",
       "      <td>60.0</td>\n",
       "      <td>41.0</td>\n",
       "      <td>60.0</td>\n",
       "      <td>56.900000</td>\n",
       "      <td>0.948333</td>\n",
       "      <td>1.463415</td>\n",
       "    </tr>\n",
       "    <tr>\n",
       "      <th>2022-01-24</th>\n",
       "      <td>0.00</td>\n",
       "      <td>60.0</td>\n",
       "      <td>39.0</td>\n",
       "      <td>57.0</td>\n",
       "      <td>57.066667</td>\n",
       "      <td>0.951111</td>\n",
       "      <td>1.538462</td>\n",
       "    </tr>\n",
       "    <tr>\n",
       "      <th>2022-01-25</th>\n",
       "      <td>0.00</td>\n",
       "      <td>57.0</td>\n",
       "      <td>43.0</td>\n",
       "      <td>57.0</td>\n",
       "      <td>57.200000</td>\n",
       "      <td>1.003509</td>\n",
       "      <td>1.325581</td>\n",
       "    </tr>\n",
       "    <tr>\n",
       "      <th>2022-01-26</th>\n",
       "      <td>0.00</td>\n",
       "      <td>57.0</td>\n",
       "      <td>41.0</td>\n",
       "      <td>67.0</td>\n",
       "      <td>57.400000</td>\n",
       "      <td>1.007018</td>\n",
       "      <td>1.390244</td>\n",
       "    </tr>\n",
       "    <tr>\n",
       "      <th>2022-01-27</th>\n",
       "      <td>0.00</td>\n",
       "      <td>67.0</td>\n",
       "      <td>39.0</td>\n",
       "      <td>64.0</td>\n",
       "      <td>57.933333</td>\n",
       "      <td>0.864677</td>\n",
       "      <td>1.717949</td>\n",
       "    </tr>\n",
       "  </tbody>\n",
       "</table>\n",
       "<p>16828 rows × 7 columns</p>\n",
       "</div>"
      ],
      "text/plain": [
       "            total_Precipitation  max_Daily_Temp  min_Daily_Temp  target  \\\n",
       "DATE                                                                      \n",
       "1960-01-31                 0.00            59.0            46.0    62.0   \n",
       "1960-02-01                 0.81            62.0            51.0    59.0   \n",
       "1960-02-02                 0.00            59.0            43.0    59.0   \n",
       "1960-02-03                 0.20            59.0            47.0    60.0   \n",
       "1960-02-04                 0.16            60.0            42.0    60.0   \n",
       "...                         ...             ...             ...     ...   \n",
       "2022-01-23                 0.00            60.0            41.0    60.0   \n",
       "2022-01-24                 0.00            60.0            39.0    57.0   \n",
       "2022-01-25                 0.00            57.0            43.0    57.0   \n",
       "2022-01-26                 0.00            57.0            41.0    67.0   \n",
       "2022-01-27                 0.00            67.0            39.0    64.0   \n",
       "\n",
       "            month_max  month_day_max   max_min  \n",
       "DATE                                            \n",
       "1960-01-31  55.566667       0.941808  1.282609  \n",
       "1960-02-01  56.000000       0.903226  1.215686  \n",
       "1960-02-02  56.166667       0.951977  1.372093  \n",
       "1960-02-03  56.333333       0.954802  1.255319  \n",
       "1960-02-04  56.500000       0.941667  1.428571  \n",
       "...               ...            ...       ...  \n",
       "2022-01-23  56.900000       0.948333  1.463415  \n",
       "2022-01-24  57.066667       0.951111  1.538462  \n",
       "2022-01-25  57.200000       1.003509  1.325581  \n",
       "2022-01-26  57.400000       1.007018  1.390244  \n",
       "2022-01-27  57.933333       0.864677  1.717949  \n",
       "\n",
       "[16828 rows x 7 columns]"
      ]
     },
     "execution_count": 165,
     "metadata": {},
     "output_type": "execute_result"
    }
   ],
   "source": [
    "primary_weather"
   ]
  },
  {
   "cell_type": "code",
   "execution_count": 166,
   "id": "50cc95c2",
   "metadata": {},
   "outputs": [],
   "source": [
    "X = primary_weather.drop('target', axis = 1)"
   ]
  },
  {
   "cell_type": "code",
   "execution_count": 167,
   "id": "e52a4b60",
   "metadata": {},
   "outputs": [],
   "source": [
    "y = primary_weather['target']"
   ]
  },
  {
   "cell_type": "code",
   "execution_count": 168,
   "id": "96cf0b57",
   "metadata": {},
   "outputs": [],
   "source": [
    "error, sq_error, pred_comb = prediction_model(X, primary_weather, model)"
   ]
  },
  {
   "cell_type": "code",
   "execution_count": 169,
   "id": "3093a48e",
   "metadata": {},
   "outputs": [
    {
     "data": {
      "text/plain": [
       "3.3932361819024406"
      ]
     },
     "execution_count": 169,
     "metadata": {},
     "output_type": "execute_result"
    }
   ],
   "source": [
    "error"
   ]
  },
  {
   "cell_type": "code",
   "execution_count": 170,
   "id": "344ae4d8",
   "metadata": {},
   "outputs": [
    {
     "data": {
      "text/plain": [
       "20.924838416350255"
      ]
     },
     "execution_count": 170,
     "metadata": {},
     "output_type": "execute_result"
    }
   ],
   "source": [
    "sq_error\n"
   ]
  },
  {
   "cell_type": "code",
   "execution_count": 171,
   "id": "78c64aa0",
   "metadata": {},
   "outputs": [],
   "source": [
    "# model = Ridge(alpha=0.1)"
   ]
  },
  {
   "cell_type": "code",
   "execution_count": 172,
   "id": "9a18638d",
   "metadata": {},
   "outputs": [],
   "source": [
    "pred_comb.columns = ['target', 'prediction', 'difference']\n"
   ]
  },
  {
   "cell_type": "code",
   "execution_count": 173,
   "id": "099f758c",
   "metadata": {
    "scrolled": false
   },
   "outputs": [
    {
     "data": {
      "text/html": [
       "<div>\n",
       "<style scoped>\n",
       "    .dataframe tbody tr th:only-of-type {\n",
       "        vertical-align: middle;\n",
       "    }\n",
       "\n",
       "    .dataframe tbody tr th {\n",
       "        vertical-align: top;\n",
       "    }\n",
       "\n",
       "    .dataframe thead th {\n",
       "        text-align: right;\n",
       "    }\n",
       "</style>\n",
       "<table border=\"1\" class=\"dataframe\">\n",
       "  <thead>\n",
       "    <tr style=\"text-align: right;\">\n",
       "      <th></th>\n",
       "      <th>target</th>\n",
       "      <th>prediction</th>\n",
       "      <th>difference</th>\n",
       "    </tr>\n",
       "    <tr>\n",
       "      <th>DATE</th>\n",
       "      <th></th>\n",
       "      <th></th>\n",
       "      <th></th>\n",
       "    </tr>\n",
       "  </thead>\n",
       "  <tbody>\n",
       "    <tr>\n",
       "      <th>1961-06-13</th>\n",
       "      <td>104.0</td>\n",
       "      <td>76.088068</td>\n",
       "      <td>27.911932</td>\n",
       "    </tr>\n",
       "    <tr>\n",
       "      <th>2020-09-26</th>\n",
       "      <td>99.0</td>\n",
       "      <td>77.555484</td>\n",
       "      <td>21.444516</td>\n",
       "    </tr>\n",
       "    <tr>\n",
       "      <th>2010-08-22</th>\n",
       "      <td>95.0</td>\n",
       "      <td>73.963125</td>\n",
       "      <td>21.036875</td>\n",
       "    </tr>\n",
       "    <tr>\n",
       "      <th>2009-09-24</th>\n",
       "      <td>79.0</td>\n",
       "      <td>58.048737</td>\n",
       "      <td>20.951263</td>\n",
       "    </tr>\n",
       "    <tr>\n",
       "      <th>1969-05-04</th>\n",
       "      <td>87.0</td>\n",
       "      <td>66.968183</td>\n",
       "      <td>20.031817</td>\n",
       "    </tr>\n",
       "    <tr>\n",
       "      <th>...</th>\n",
       "      <td>...</td>\n",
       "      <td>...</td>\n",
       "      <td>...</td>\n",
       "    </tr>\n",
       "    <tr>\n",
       "      <th>2020-05-13</th>\n",
       "      <td>69.0</td>\n",
       "      <td>69.004926</td>\n",
       "      <td>0.004926</td>\n",
       "    </tr>\n",
       "    <tr>\n",
       "      <th>1961-03-05</th>\n",
       "      <td>57.0</td>\n",
       "      <td>57.004854</td>\n",
       "      <td>0.004854</td>\n",
       "    </tr>\n",
       "    <tr>\n",
       "      <th>1976-06-08</th>\n",
       "      <td>64.0</td>\n",
       "      <td>63.995938</td>\n",
       "      <td>0.004062</td>\n",
       "    </tr>\n",
       "    <tr>\n",
       "      <th>1970-03-14</th>\n",
       "      <td>65.0</td>\n",
       "      <td>65.001173</td>\n",
       "      <td>0.001173</td>\n",
       "    </tr>\n",
       "    <tr>\n",
       "      <th>1977-09-04</th>\n",
       "      <td>76.0</td>\n",
       "      <td>75.999868</td>\n",
       "      <td>0.000132</td>\n",
       "    </tr>\n",
       "  </tbody>\n",
       "</table>\n",
       "<p>5058 rows × 3 columns</p>\n",
       "</div>"
      ],
      "text/plain": [
       "            target  prediction  difference\n",
       "DATE                                      \n",
       "1961-06-13   104.0   76.088068   27.911932\n",
       "2020-09-26    99.0   77.555484   21.444516\n",
       "2010-08-22    95.0   73.963125   21.036875\n",
       "2009-09-24    79.0   58.048737   20.951263\n",
       "1969-05-04    87.0   66.968183   20.031817\n",
       "...            ...         ...         ...\n",
       "2020-05-13    69.0   69.004926    0.004926\n",
       "1961-03-05    57.0   57.004854    0.004854\n",
       "1976-06-08    64.0   63.995938    0.004062\n",
       "1970-03-14    65.0   65.001173    0.001173\n",
       "1977-09-04    76.0   75.999868    0.000132\n",
       "\n",
       "[5058 rows x 3 columns]"
      ]
     },
     "execution_count": 173,
     "metadata": {},
     "output_type": "execute_result"
    }
   ],
   "source": [
    "pred_comb.sort_values('difference', ascending = False)"
   ]
  },
  {
   "cell_type": "code",
   "execution_count": 174,
   "id": "6679cc9b",
   "metadata": {},
   "outputs": [],
   "source": [
    "pred_comb['difference'] = (pred_comb['target'] - pred_comb['prediction']).abs()"
   ]
  },
  {
   "cell_type": "code",
   "execution_count": 175,
   "id": "33f8ca49",
   "metadata": {},
   "outputs": [
    {
     "name": "stderr",
     "output_type": "stream",
     "text": [
      "/var/folders/ld/984t852d7kx65v4rkqstw9p00000gn/T/ipykernel_5308/1678173815.py:1: SettingWithCopyWarning: \n",
      "A value is trying to be set on a copy of a slice from a DataFrame.\n",
      "Try using .loc[row_indexer,col_indexer] = value instead\n",
      "\n",
      "See the caveats in the documentation: https://pandas.pydata.org/pandas-docs/stable/user_guide/indexing.html#returning-a-view-versus-a-copy\n",
      "  primary_weather['avg_monthly'] = primary_weather[\"max_Daily_Temp\"].groupby(primary_weather.index.month).apply(lambda x: x.expanding(1).mean())\n"
     ]
    }
   ],
   "source": [
    "primary_weather['avg_monthly'] = primary_weather[\"max_Daily_Temp\"].groupby(primary_weather.index.month).apply(lambda x: x.expanding(1).mean())\n"
   ]
  },
  {
   "cell_type": "code",
   "execution_count": 176,
   "id": "04b07a80",
   "metadata": {},
   "outputs": [
    {
     "name": "stderr",
     "output_type": "stream",
     "text": [
      "/var/folders/ld/984t852d7kx65v4rkqstw9p00000gn/T/ipykernel_5308/3779239517.py:1: SettingWithCopyWarning: \n",
      "A value is trying to be set on a copy of a slice from a DataFrame.\n",
      "Try using .loc[row_indexer,col_indexer] = value instead\n",
      "\n",
      "See the caveats in the documentation: https://pandas.pydata.org/pandas-docs/stable/user_guide/indexing.html#returning-a-view-versus-a-copy\n",
      "  primary_weather[\"avg_daily\"] = primary_weather[\"max_Daily_Temp\"].groupby(primary_weather.index.day_of_year).apply(lambda x: x.expanding(1).mean())\n"
     ]
    }
   ],
   "source": [
    "primary_weather[\"avg_daily\"] = primary_weather[\"max_Daily_Temp\"].groupby(primary_weather.index.day_of_year).apply(lambda x: x.expanding(1).mean())\n"
   ]
  },
  {
   "cell_type": "code",
   "execution_count": 177,
   "id": "876f00fd",
   "metadata": {},
   "outputs": [
    {
     "data": {
      "text/html": [
       "<div>\n",
       "<style scoped>\n",
       "    .dataframe tbody tr th:only-of-type {\n",
       "        vertical-align: middle;\n",
       "    }\n",
       "\n",
       "    .dataframe tbody tr th {\n",
       "        vertical-align: top;\n",
       "    }\n",
       "\n",
       "    .dataframe thead th {\n",
       "        text-align: right;\n",
       "    }\n",
       "</style>\n",
       "<table border=\"1\" class=\"dataframe\">\n",
       "  <thead>\n",
       "    <tr style=\"text-align: right;\">\n",
       "      <th></th>\n",
       "      <th>total_Precipitation</th>\n",
       "      <th>max_Daily_Temp</th>\n",
       "      <th>min_Daily_Temp</th>\n",
       "      <th>target</th>\n",
       "      <th>month_max</th>\n",
       "      <th>month_day_max</th>\n",
       "      <th>max_min</th>\n",
       "      <th>avg_monthly</th>\n",
       "      <th>avg_daily</th>\n",
       "    </tr>\n",
       "    <tr>\n",
       "      <th>DATE</th>\n",
       "      <th></th>\n",
       "      <th></th>\n",
       "      <th></th>\n",
       "      <th></th>\n",
       "      <th></th>\n",
       "      <th></th>\n",
       "      <th></th>\n",
       "      <th></th>\n",
       "      <th></th>\n",
       "    </tr>\n",
       "  </thead>\n",
       "  <tbody>\n",
       "    <tr>\n",
       "      <th>1960-01-31</th>\n",
       "      <td>0.00</td>\n",
       "      <td>59.0</td>\n",
       "      <td>46.0</td>\n",
       "      <td>62.0</td>\n",
       "      <td>55.566667</td>\n",
       "      <td>0.941808</td>\n",
       "      <td>1.282609</td>\n",
       "      <td>59.000000</td>\n",
       "      <td>59.000000</td>\n",
       "    </tr>\n",
       "    <tr>\n",
       "      <th>1960-02-01</th>\n",
       "      <td>0.81</td>\n",
       "      <td>62.0</td>\n",
       "      <td>51.0</td>\n",
       "      <td>59.0</td>\n",
       "      <td>56.000000</td>\n",
       "      <td>0.903226</td>\n",
       "      <td>1.215686</td>\n",
       "      <td>62.000000</td>\n",
       "      <td>62.000000</td>\n",
       "    </tr>\n",
       "    <tr>\n",
       "      <th>1960-02-02</th>\n",
       "      <td>0.00</td>\n",
       "      <td>59.0</td>\n",
       "      <td>43.0</td>\n",
       "      <td>59.0</td>\n",
       "      <td>56.166667</td>\n",
       "      <td>0.951977</td>\n",
       "      <td>1.372093</td>\n",
       "      <td>60.500000</td>\n",
       "      <td>59.000000</td>\n",
       "    </tr>\n",
       "    <tr>\n",
       "      <th>1960-02-03</th>\n",
       "      <td>0.20</td>\n",
       "      <td>59.0</td>\n",
       "      <td>47.0</td>\n",
       "      <td>60.0</td>\n",
       "      <td>56.333333</td>\n",
       "      <td>0.954802</td>\n",
       "      <td>1.255319</td>\n",
       "      <td>60.000000</td>\n",
       "      <td>59.000000</td>\n",
       "    </tr>\n",
       "    <tr>\n",
       "      <th>1960-02-04</th>\n",
       "      <td>0.16</td>\n",
       "      <td>60.0</td>\n",
       "      <td>42.0</td>\n",
       "      <td>60.0</td>\n",
       "      <td>56.500000</td>\n",
       "      <td>0.941667</td>\n",
       "      <td>1.428571</td>\n",
       "      <td>60.000000</td>\n",
       "      <td>60.000000</td>\n",
       "    </tr>\n",
       "    <tr>\n",
       "      <th>...</th>\n",
       "      <td>...</td>\n",
       "      <td>...</td>\n",
       "      <td>...</td>\n",
       "      <td>...</td>\n",
       "      <td>...</td>\n",
       "      <td>...</td>\n",
       "      <td>...</td>\n",
       "      <td>...</td>\n",
       "      <td>...</td>\n",
       "    </tr>\n",
       "    <tr>\n",
       "      <th>2022-01-23</th>\n",
       "      <td>0.00</td>\n",
       "      <td>60.0</td>\n",
       "      <td>41.0</td>\n",
       "      <td>60.0</td>\n",
       "      <td>56.900000</td>\n",
       "      <td>0.948333</td>\n",
       "      <td>1.463415</td>\n",
       "      <td>56.781536</td>\n",
       "      <td>57.130435</td>\n",
       "    </tr>\n",
       "    <tr>\n",
       "      <th>2022-01-24</th>\n",
       "      <td>0.00</td>\n",
       "      <td>60.0</td>\n",
       "      <td>39.0</td>\n",
       "      <td>57.0</td>\n",
       "      <td>57.066667</td>\n",
       "      <td>0.951111</td>\n",
       "      <td>1.538462</td>\n",
       "      <td>56.783803</td>\n",
       "      <td>57.239130</td>\n",
       "    </tr>\n",
       "    <tr>\n",
       "      <th>2022-01-25</th>\n",
       "      <td>0.00</td>\n",
       "      <td>57.0</td>\n",
       "      <td>43.0</td>\n",
       "      <td>57.0</td>\n",
       "      <td>57.200000</td>\n",
       "      <td>1.003509</td>\n",
       "      <td>1.325581</td>\n",
       "      <td>56.783955</td>\n",
       "      <td>57.347826</td>\n",
       "    </tr>\n",
       "    <tr>\n",
       "      <th>2022-01-26</th>\n",
       "      <td>0.00</td>\n",
       "      <td>57.0</td>\n",
       "      <td>41.0</td>\n",
       "      <td>67.0</td>\n",
       "      <td>57.400000</td>\n",
       "      <td>1.007018</td>\n",
       "      <td>1.390244</td>\n",
       "      <td>56.784107</td>\n",
       "      <td>57.630435</td>\n",
       "    </tr>\n",
       "    <tr>\n",
       "      <th>2022-01-27</th>\n",
       "      <td>0.00</td>\n",
       "      <td>67.0</td>\n",
       "      <td>39.0</td>\n",
       "      <td>64.0</td>\n",
       "      <td>57.933333</td>\n",
       "      <td>0.864677</td>\n",
       "      <td>1.717949</td>\n",
       "      <td>56.791286</td>\n",
       "      <td>57.826087</td>\n",
       "    </tr>\n",
       "  </tbody>\n",
       "</table>\n",
       "<p>16828 rows × 9 columns</p>\n",
       "</div>"
      ],
      "text/plain": [
       "            total_Precipitation  max_Daily_Temp  min_Daily_Temp  target  \\\n",
       "DATE                                                                      \n",
       "1960-01-31                 0.00            59.0            46.0    62.0   \n",
       "1960-02-01                 0.81            62.0            51.0    59.0   \n",
       "1960-02-02                 0.00            59.0            43.0    59.0   \n",
       "1960-02-03                 0.20            59.0            47.0    60.0   \n",
       "1960-02-04                 0.16            60.0            42.0    60.0   \n",
       "...                         ...             ...             ...     ...   \n",
       "2022-01-23                 0.00            60.0            41.0    60.0   \n",
       "2022-01-24                 0.00            60.0            39.0    57.0   \n",
       "2022-01-25                 0.00            57.0            43.0    57.0   \n",
       "2022-01-26                 0.00            57.0            41.0    67.0   \n",
       "2022-01-27                 0.00            67.0            39.0    64.0   \n",
       "\n",
       "            month_max  month_day_max   max_min  avg_monthly  avg_daily  \n",
       "DATE                                                                    \n",
       "1960-01-31  55.566667       0.941808  1.282609    59.000000  59.000000  \n",
       "1960-02-01  56.000000       0.903226  1.215686    62.000000  62.000000  \n",
       "1960-02-02  56.166667       0.951977  1.372093    60.500000  59.000000  \n",
       "1960-02-03  56.333333       0.954802  1.255319    60.000000  59.000000  \n",
       "1960-02-04  56.500000       0.941667  1.428571    60.000000  60.000000  \n",
       "...               ...            ...       ...          ...        ...  \n",
       "2022-01-23  56.900000       0.948333  1.463415    56.781536  57.130435  \n",
       "2022-01-24  57.066667       0.951111  1.538462    56.783803  57.239130  \n",
       "2022-01-25  57.200000       1.003509  1.325581    56.783955  57.347826  \n",
       "2022-01-26  57.400000       1.007018  1.390244    56.784107  57.630435  \n",
       "2022-01-27  57.933333       0.864677  1.717949    56.791286  57.826087  \n",
       "\n",
       "[16828 rows x 9 columns]"
      ]
     },
     "execution_count": 177,
     "metadata": {},
     "output_type": "execute_result"
    }
   ],
   "source": [
    "primary_weather"
   ]
  },
  {
   "cell_type": "code",
   "execution_count": 178,
   "id": "a66321e9",
   "metadata": {},
   "outputs": [],
   "source": [
    "X = primary_weather.drop('target', axis = 1)"
   ]
  },
  {
   "cell_type": "code",
   "execution_count": 179,
   "id": "f39eeebb",
   "metadata": {},
   "outputs": [],
   "source": [
    "y = primary_weather['target']"
   ]
  },
  {
   "cell_type": "code",
   "execution_count": 180,
   "id": "788623a5",
   "metadata": {},
   "outputs": [],
   "source": [
    "error, sq_error,pred_comb = prediction_model(X, primary_weather, model)"
   ]
  },
  {
   "cell_type": "code",
   "execution_count": 181,
   "id": "6f76201c",
   "metadata": {},
   "outputs": [
    {
     "data": {
      "text/plain": [
       "3.374117025984526"
      ]
     },
     "execution_count": 181,
     "metadata": {},
     "output_type": "execute_result"
    }
   ],
   "source": [
    "error"
   ]
  },
  {
   "cell_type": "code",
   "execution_count": 182,
   "id": "e0be72a6",
   "metadata": {},
   "outputs": [
    {
     "data": {
      "text/plain": [
       "20.947868985947338"
      ]
     },
     "execution_count": 182,
     "metadata": {},
     "output_type": "execute_result"
    }
   ],
   "source": [
    "sq_error"
   ]
  },
  {
   "cell_type": "markdown",
   "id": "f3afa6a2",
   "metadata": {},
   "source": [
    "## due to random sampling this model will not perform well on sudden climate change \n",
    "#### we will switch to date range data split and see how well model performs"
   ]
  },
  {
   "cell_type": "code",
   "execution_count": 183,
   "id": "36670d21",
   "metadata": {},
   "outputs": [],
   "source": [
    "# training data\n",
    "train = primary_weather.loc[:'2020-12-31']"
   ]
  },
  {
   "cell_type": "code",
   "execution_count": 184,
   "id": "45537306",
   "metadata": {},
   "outputs": [],
   "source": [
    "# test data\n",
    "test = primary_weather.loc['2021-01-01':, :]"
   ]
  },
  {
   "cell_type": "code",
   "execution_count": 185,
   "id": "228112da",
   "metadata": {},
   "outputs": [
    {
     "data": {
      "text/html": [
       "<div>\n",
       "<style scoped>\n",
       "    .dataframe tbody tr th:only-of-type {\n",
       "        vertical-align: middle;\n",
       "    }\n",
       "\n",
       "    .dataframe tbody tr th {\n",
       "        vertical-align: top;\n",
       "    }\n",
       "\n",
       "    .dataframe thead th {\n",
       "        text-align: right;\n",
       "    }\n",
       "</style>\n",
       "<table border=\"1\" class=\"dataframe\">\n",
       "  <thead>\n",
       "    <tr style=\"text-align: right;\">\n",
       "      <th></th>\n",
       "      <th>total_Precipitation</th>\n",
       "      <th>max_Daily_Temp</th>\n",
       "      <th>min_Daily_Temp</th>\n",
       "      <th>target</th>\n",
       "      <th>month_max</th>\n",
       "      <th>month_day_max</th>\n",
       "      <th>max_min</th>\n",
       "      <th>avg_monthly</th>\n",
       "      <th>avg_daily</th>\n",
       "    </tr>\n",
       "    <tr>\n",
       "      <th>DATE</th>\n",
       "      <th></th>\n",
       "      <th></th>\n",
       "      <th></th>\n",
       "      <th></th>\n",
       "      <th></th>\n",
       "      <th></th>\n",
       "      <th></th>\n",
       "      <th></th>\n",
       "      <th></th>\n",
       "    </tr>\n",
       "  </thead>\n",
       "  <tbody>\n",
       "    <tr>\n",
       "      <th>1960-01-31</th>\n",
       "      <td>0.00</td>\n",
       "      <td>59.0</td>\n",
       "      <td>46.0</td>\n",
       "      <td>62.0</td>\n",
       "      <td>55.566667</td>\n",
       "      <td>0.941808</td>\n",
       "      <td>1.282609</td>\n",
       "      <td>59.000000</td>\n",
       "      <td>59.000000</td>\n",
       "    </tr>\n",
       "    <tr>\n",
       "      <th>1960-02-01</th>\n",
       "      <td>0.81</td>\n",
       "      <td>62.0</td>\n",
       "      <td>51.0</td>\n",
       "      <td>59.0</td>\n",
       "      <td>56.000000</td>\n",
       "      <td>0.903226</td>\n",
       "      <td>1.215686</td>\n",
       "      <td>62.000000</td>\n",
       "      <td>62.000000</td>\n",
       "    </tr>\n",
       "    <tr>\n",
       "      <th>1960-02-02</th>\n",
       "      <td>0.00</td>\n",
       "      <td>59.0</td>\n",
       "      <td>43.0</td>\n",
       "      <td>59.0</td>\n",
       "      <td>56.166667</td>\n",
       "      <td>0.951977</td>\n",
       "      <td>1.372093</td>\n",
       "      <td>60.500000</td>\n",
       "      <td>59.000000</td>\n",
       "    </tr>\n",
       "    <tr>\n",
       "      <th>1960-02-03</th>\n",
       "      <td>0.20</td>\n",
       "      <td>59.0</td>\n",
       "      <td>47.0</td>\n",
       "      <td>60.0</td>\n",
       "      <td>56.333333</td>\n",
       "      <td>0.954802</td>\n",
       "      <td>1.255319</td>\n",
       "      <td>60.000000</td>\n",
       "      <td>59.000000</td>\n",
       "    </tr>\n",
       "    <tr>\n",
       "      <th>1960-02-04</th>\n",
       "      <td>0.16</td>\n",
       "      <td>60.0</td>\n",
       "      <td>42.0</td>\n",
       "      <td>60.0</td>\n",
       "      <td>56.500000</td>\n",
       "      <td>0.941667</td>\n",
       "      <td>1.428571</td>\n",
       "      <td>60.000000</td>\n",
       "      <td>60.000000</td>\n",
       "    </tr>\n",
       "    <tr>\n",
       "      <th>...</th>\n",
       "      <td>...</td>\n",
       "      <td>...</td>\n",
       "      <td>...</td>\n",
       "      <td>...</td>\n",
       "      <td>...</td>\n",
       "      <td>...</td>\n",
       "      <td>...</td>\n",
       "      <td>...</td>\n",
       "      <td>...</td>\n",
       "    </tr>\n",
       "    <tr>\n",
       "      <th>2020-12-27</th>\n",
       "      <td>0.00</td>\n",
       "      <td>63.0</td>\n",
       "      <td>44.0</td>\n",
       "      <td>61.0</td>\n",
       "      <td>63.600000</td>\n",
       "      <td>1.009524</td>\n",
       "      <td>1.431818</td>\n",
       "      <td>56.694464</td>\n",
       "      <td>55.511111</td>\n",
       "    </tr>\n",
       "    <tr>\n",
       "      <th>2020-12-28</th>\n",
       "      <td>0.10</td>\n",
       "      <td>61.0</td>\n",
       "      <td>42.0</td>\n",
       "      <td>60.0</td>\n",
       "      <td>63.500000</td>\n",
       "      <td>1.040984</td>\n",
       "      <td>1.452381</td>\n",
       "      <td>56.697557</td>\n",
       "      <td>55.933333</td>\n",
       "    </tr>\n",
       "    <tr>\n",
       "      <th>2020-12-29</th>\n",
       "      <td>0.00</td>\n",
       "      <td>60.0</td>\n",
       "      <td>39.0</td>\n",
       "      <td>56.0</td>\n",
       "      <td>63.366667</td>\n",
       "      <td>1.056111</td>\n",
       "      <td>1.538462</td>\n",
       "      <td>56.699928</td>\n",
       "      <td>55.444444</td>\n",
       "    </tr>\n",
       "    <tr>\n",
       "      <th>2020-12-30</th>\n",
       "      <td>0.07</td>\n",
       "      <td>56.0</td>\n",
       "      <td>36.0</td>\n",
       "      <td>62.0</td>\n",
       "      <td>63.100000</td>\n",
       "      <td>1.126786</td>\n",
       "      <td>1.555556</td>\n",
       "      <td>56.699426</td>\n",
       "      <td>55.644444</td>\n",
       "    </tr>\n",
       "    <tr>\n",
       "      <th>2020-12-31</th>\n",
       "      <td>0.06</td>\n",
       "      <td>62.0</td>\n",
       "      <td>44.0</td>\n",
       "      <td>60.0</td>\n",
       "      <td>63.033333</td>\n",
       "      <td>1.016667</td>\n",
       "      <td>1.409091</td>\n",
       "      <td>56.703226</td>\n",
       "      <td>55.307692</td>\n",
       "    </tr>\n",
       "  </tbody>\n",
       "</table>\n",
       "<p>16437 rows × 9 columns</p>\n",
       "</div>"
      ],
      "text/plain": [
       "            total_Precipitation  max_Daily_Temp  min_Daily_Temp  target  \\\n",
       "DATE                                                                      \n",
       "1960-01-31                 0.00            59.0            46.0    62.0   \n",
       "1960-02-01                 0.81            62.0            51.0    59.0   \n",
       "1960-02-02                 0.00            59.0            43.0    59.0   \n",
       "1960-02-03                 0.20            59.0            47.0    60.0   \n",
       "1960-02-04                 0.16            60.0            42.0    60.0   \n",
       "...                         ...             ...             ...     ...   \n",
       "2020-12-27                 0.00            63.0            44.0    61.0   \n",
       "2020-12-28                 0.10            61.0            42.0    60.0   \n",
       "2020-12-29                 0.00            60.0            39.0    56.0   \n",
       "2020-12-30                 0.07            56.0            36.0    62.0   \n",
       "2020-12-31                 0.06            62.0            44.0    60.0   \n",
       "\n",
       "            month_max  month_day_max   max_min  avg_monthly  avg_daily  \n",
       "DATE                                                                    \n",
       "1960-01-31  55.566667       0.941808  1.282609    59.000000  59.000000  \n",
       "1960-02-01  56.000000       0.903226  1.215686    62.000000  62.000000  \n",
       "1960-02-02  56.166667       0.951977  1.372093    60.500000  59.000000  \n",
       "1960-02-03  56.333333       0.954802  1.255319    60.000000  59.000000  \n",
       "1960-02-04  56.500000       0.941667  1.428571    60.000000  60.000000  \n",
       "...               ...            ...       ...          ...        ...  \n",
       "2020-12-27  63.600000       1.009524  1.431818    56.694464  55.511111  \n",
       "2020-12-28  63.500000       1.040984  1.452381    56.697557  55.933333  \n",
       "2020-12-29  63.366667       1.056111  1.538462    56.699928  55.444444  \n",
       "2020-12-30  63.100000       1.126786  1.555556    56.699426  55.644444  \n",
       "2020-12-31  63.033333       1.016667  1.409091    56.703226  55.307692  \n",
       "\n",
       "[16437 rows x 9 columns]"
      ]
     },
     "execution_count": 185,
     "metadata": {},
     "output_type": "execute_result"
    }
   ],
   "source": [
    "train"
   ]
  },
  {
   "cell_type": "code",
   "execution_count": 186,
   "id": "2e584252",
   "metadata": {
    "scrolled": true
   },
   "outputs": [
    {
     "data": {
      "text/html": [
       "<div>\n",
       "<style scoped>\n",
       "    .dataframe tbody tr th:only-of-type {\n",
       "        vertical-align: middle;\n",
       "    }\n",
       "\n",
       "    .dataframe tbody tr th {\n",
       "        vertical-align: top;\n",
       "    }\n",
       "\n",
       "    .dataframe thead th {\n",
       "        text-align: right;\n",
       "    }\n",
       "</style>\n",
       "<table border=\"1\" class=\"dataframe\">\n",
       "  <thead>\n",
       "    <tr style=\"text-align: right;\">\n",
       "      <th></th>\n",
       "      <th>total_Precipitation</th>\n",
       "      <th>max_Daily_Temp</th>\n",
       "      <th>min_Daily_Temp</th>\n",
       "      <th>target</th>\n",
       "      <th>month_max</th>\n",
       "      <th>month_day_max</th>\n",
       "      <th>max_min</th>\n",
       "      <th>avg_monthly</th>\n",
       "      <th>avg_daily</th>\n",
       "    </tr>\n",
       "    <tr>\n",
       "      <th>DATE</th>\n",
       "      <th></th>\n",
       "      <th></th>\n",
       "      <th></th>\n",
       "      <th></th>\n",
       "      <th></th>\n",
       "      <th></th>\n",
       "      <th></th>\n",
       "      <th></th>\n",
       "      <th></th>\n",
       "    </tr>\n",
       "  </thead>\n",
       "  <tbody>\n",
       "    <tr>\n",
       "      <th>2021-01-01</th>\n",
       "      <td>0.00</td>\n",
       "      <td>60.0</td>\n",
       "      <td>40.0</td>\n",
       "      <td>57.0</td>\n",
       "      <td>62.833333</td>\n",
       "      <td>1.047222</td>\n",
       "      <td>1.500000</td>\n",
       "      <td>56.636896</td>\n",
       "      <td>55.355556</td>\n",
       "    </tr>\n",
       "    <tr>\n",
       "      <th>2021-01-02</th>\n",
       "      <td>0.14</td>\n",
       "      <td>57.0</td>\n",
       "      <td>51.0</td>\n",
       "      <td>56.0</td>\n",
       "      <td>62.533333</td>\n",
       "      <td>1.097076</td>\n",
       "      <td>1.117647</td>\n",
       "      <td>56.637162</td>\n",
       "      <td>54.644444</td>\n",
       "    </tr>\n",
       "    <tr>\n",
       "      <th>2021-01-03</th>\n",
       "      <td>0.00</td>\n",
       "      <td>56.0</td>\n",
       "      <td>49.0</td>\n",
       "      <td>62.0</td>\n",
       "      <td>62.200000</td>\n",
       "      <td>1.110714</td>\n",
       "      <td>1.142857</td>\n",
       "      <td>56.636696</td>\n",
       "      <td>55.000000</td>\n",
       "    </tr>\n",
       "    <tr>\n",
       "      <th>2021-01-04</th>\n",
       "      <td>0.36</td>\n",
       "      <td>62.0</td>\n",
       "      <td>46.0</td>\n",
       "      <td>59.0</td>\n",
       "      <td>62.133333</td>\n",
       "      <td>1.002151</td>\n",
       "      <td>1.347826</td>\n",
       "      <td>56.640614</td>\n",
       "      <td>55.644444</td>\n",
       "    </tr>\n",
       "    <tr>\n",
       "      <th>2021-01-05</th>\n",
       "      <td>0.00</td>\n",
       "      <td>59.0</td>\n",
       "      <td>42.0</td>\n",
       "      <td>59.0</td>\n",
       "      <td>61.966667</td>\n",
       "      <td>1.050282</td>\n",
       "      <td>1.404762</td>\n",
       "      <td>56.642336</td>\n",
       "      <td>55.533333</td>\n",
       "    </tr>\n",
       "    <tr>\n",
       "      <th>...</th>\n",
       "      <td>...</td>\n",
       "      <td>...</td>\n",
       "      <td>...</td>\n",
       "      <td>...</td>\n",
       "      <td>...</td>\n",
       "      <td>...</td>\n",
       "      <td>...</td>\n",
       "      <td>...</td>\n",
       "      <td>...</td>\n",
       "    </tr>\n",
       "    <tr>\n",
       "      <th>2022-01-23</th>\n",
       "      <td>0.00</td>\n",
       "      <td>60.0</td>\n",
       "      <td>41.0</td>\n",
       "      <td>60.0</td>\n",
       "      <td>56.900000</td>\n",
       "      <td>0.948333</td>\n",
       "      <td>1.463415</td>\n",
       "      <td>56.781536</td>\n",
       "      <td>57.130435</td>\n",
       "    </tr>\n",
       "    <tr>\n",
       "      <th>2022-01-24</th>\n",
       "      <td>0.00</td>\n",
       "      <td>60.0</td>\n",
       "      <td>39.0</td>\n",
       "      <td>57.0</td>\n",
       "      <td>57.066667</td>\n",
       "      <td>0.951111</td>\n",
       "      <td>1.538462</td>\n",
       "      <td>56.783803</td>\n",
       "      <td>57.239130</td>\n",
       "    </tr>\n",
       "    <tr>\n",
       "      <th>2022-01-25</th>\n",
       "      <td>0.00</td>\n",
       "      <td>57.0</td>\n",
       "      <td>43.0</td>\n",
       "      <td>57.0</td>\n",
       "      <td>57.200000</td>\n",
       "      <td>1.003509</td>\n",
       "      <td>1.325581</td>\n",
       "      <td>56.783955</td>\n",
       "      <td>57.347826</td>\n",
       "    </tr>\n",
       "    <tr>\n",
       "      <th>2022-01-26</th>\n",
       "      <td>0.00</td>\n",
       "      <td>57.0</td>\n",
       "      <td>41.0</td>\n",
       "      <td>67.0</td>\n",
       "      <td>57.400000</td>\n",
       "      <td>1.007018</td>\n",
       "      <td>1.390244</td>\n",
       "      <td>56.784107</td>\n",
       "      <td>57.630435</td>\n",
       "    </tr>\n",
       "    <tr>\n",
       "      <th>2022-01-27</th>\n",
       "      <td>0.00</td>\n",
       "      <td>67.0</td>\n",
       "      <td>39.0</td>\n",
       "      <td>64.0</td>\n",
       "      <td>57.933333</td>\n",
       "      <td>0.864677</td>\n",
       "      <td>1.717949</td>\n",
       "      <td>56.791286</td>\n",
       "      <td>57.826087</td>\n",
       "    </tr>\n",
       "  </tbody>\n",
       "</table>\n",
       "<p>391 rows × 9 columns</p>\n",
       "</div>"
      ],
      "text/plain": [
       "            total_Precipitation  max_Daily_Temp  min_Daily_Temp  target  \\\n",
       "DATE                                                                      \n",
       "2021-01-01                 0.00            60.0            40.0    57.0   \n",
       "2021-01-02                 0.14            57.0            51.0    56.0   \n",
       "2021-01-03                 0.00            56.0            49.0    62.0   \n",
       "2021-01-04                 0.36            62.0            46.0    59.0   \n",
       "2021-01-05                 0.00            59.0            42.0    59.0   \n",
       "...                         ...             ...             ...     ...   \n",
       "2022-01-23                 0.00            60.0            41.0    60.0   \n",
       "2022-01-24                 0.00            60.0            39.0    57.0   \n",
       "2022-01-25                 0.00            57.0            43.0    57.0   \n",
       "2022-01-26                 0.00            57.0            41.0    67.0   \n",
       "2022-01-27                 0.00            67.0            39.0    64.0   \n",
       "\n",
       "            month_max  month_day_max   max_min  avg_monthly  avg_daily  \n",
       "DATE                                                                    \n",
       "2021-01-01  62.833333       1.047222  1.500000    56.636896  55.355556  \n",
       "2021-01-02  62.533333       1.097076  1.117647    56.637162  54.644444  \n",
       "2021-01-03  62.200000       1.110714  1.142857    56.636696  55.000000  \n",
       "2021-01-04  62.133333       1.002151  1.347826    56.640614  55.644444  \n",
       "2021-01-05  61.966667       1.050282  1.404762    56.642336  55.533333  \n",
       "...               ...            ...       ...          ...        ...  \n",
       "2022-01-23  56.900000       0.948333  1.463415    56.781536  57.130435  \n",
       "2022-01-24  57.066667       0.951111  1.538462    56.783803  57.239130  \n",
       "2022-01-25  57.200000       1.003509  1.325581    56.783955  57.347826  \n",
       "2022-01-26  57.400000       1.007018  1.390244    56.784107  57.630435  \n",
       "2022-01-27  57.933333       0.864677  1.717949    56.791286  57.826087  \n",
       "\n",
       "[391 rows x 9 columns]"
      ]
     },
     "execution_count": 186,
     "metadata": {},
     "output_type": "execute_result"
    }
   ],
   "source": [
    "test"
   ]
  },
  {
   "cell_type": "code",
   "execution_count": 220,
   "id": "cc3e3896",
   "metadata": {},
   "outputs": [
    {
     "data": {
      "text/plain": [
       "total_Precipitation   -0.206351\n",
       "max_Daily_Temp         0.821650\n",
       "min_Daily_Temp         0.596016\n",
       "target                 1.000000\n",
       "month_max              0.686842\n",
       "month_day_max         -0.421537\n",
       "max_min                0.045228\n",
       "avg_monthly            0.689805\n",
       "avg_daily              0.712334\n",
       "Name: target, dtype: float64"
      ]
     },
     "execution_count": 220,
     "metadata": {},
     "output_type": "execute_result"
    }
   ],
   "source": [
    "primary_weather.corr()['target']"
   ]
  },
  {
   "cell_type": "code",
   "execution_count": 187,
   "id": "998eb6a1",
   "metadata": {},
   "outputs": [],
   "source": [
    "X_train_final = train.drop('target', axis = 1)"
   ]
  },
  {
   "cell_type": "code",
   "execution_count": 188,
   "id": "c37348e8",
   "metadata": {},
   "outputs": [],
   "source": [
    "y_train_final = train['target']"
   ]
  },
  {
   "cell_type": "code",
   "execution_count": 189,
   "id": "7298381d",
   "metadata": {},
   "outputs": [],
   "source": [
    "X_test_final = test.drop('target', axis = 1)"
   ]
  },
  {
   "cell_type": "code",
   "execution_count": 190,
   "id": "eea0cf1c",
   "metadata": {},
   "outputs": [],
   "source": [
    "y_test_final = test['target']"
   ]
  },
  {
   "cell_type": "code",
   "execution_count": 191,
   "id": "6c701647",
   "metadata": {},
   "outputs": [],
   "source": [
    "scalar.fit(X_train_final)\n",
    "X_train_sc = scalar.transform(X_train_final)\n",
    "X_test_sc = scalar.transform(X_test_final)\n",
    "model.fit(X_train_sc, y_train_final)\n",
    "model_pred_final = model.predict(X_test_sc)\n",
    "error = mean_absolute_error(model_pred_final, y_test_final)\n",
    "sq_error = mean_squared_error(model_pred_final, y_test_final)"
   ]
  },
  {
   "cell_type": "code",
   "execution_count": 192,
   "id": "3dc58ab9",
   "metadata": {},
   "outputs": [
    {
     "data": {
      "text/plain": [
       "3.318063344118813"
      ]
     },
     "execution_count": 192,
     "metadata": {},
     "output_type": "execute_result"
    }
   ],
   "source": [
    "error"
   ]
  },
  {
   "cell_type": "code",
   "execution_count": 193,
   "id": "0c04f3f8",
   "metadata": {},
   "outputs": [
    {
     "data": {
      "text/plain": [
       "19.384340900791138"
      ]
     },
     "execution_count": 193,
     "metadata": {},
     "output_type": "execute_result"
    }
   ],
   "source": [
    "sq_error"
   ]
  },
  {
   "cell_type": "code",
   "execution_count": 194,
   "id": "1e6367ca",
   "metadata": {},
   "outputs": [],
   "source": [
    "pred_comb_final = pd.concat([y_test_final, pd.Series(model_pred_final, index = X_test_final.index)], axis = 1)\n",
    "pred_comb_final.columns = ['target', 'prediction']"
   ]
  },
  {
   "cell_type": "code",
   "execution_count": 195,
   "id": "08493765",
   "metadata": {
    "scrolled": true
   },
   "outputs": [
    {
     "data": {
      "text/html": [
       "<div>\n",
       "<style scoped>\n",
       "    .dataframe tbody tr th:only-of-type {\n",
       "        vertical-align: middle;\n",
       "    }\n",
       "\n",
       "    .dataframe tbody tr th {\n",
       "        vertical-align: top;\n",
       "    }\n",
       "\n",
       "    .dataframe thead th {\n",
       "        text-align: right;\n",
       "    }\n",
       "</style>\n",
       "<table border=\"1\" class=\"dataframe\">\n",
       "  <thead>\n",
       "    <tr style=\"text-align: right;\">\n",
       "      <th></th>\n",
       "      <th>target</th>\n",
       "      <th>prediction</th>\n",
       "    </tr>\n",
       "    <tr>\n",
       "      <th>DATE</th>\n",
       "      <th></th>\n",
       "      <th></th>\n",
       "    </tr>\n",
       "  </thead>\n",
       "  <tbody>\n",
       "    <tr>\n",
       "      <th>2021-01-01</th>\n",
       "      <td>57.0</td>\n",
       "      <td>59.569921</td>\n",
       "    </tr>\n",
       "    <tr>\n",
       "      <th>2021-01-02</th>\n",
       "      <td>56.0</td>\n",
       "      <td>57.599903</td>\n",
       "    </tr>\n",
       "    <tr>\n",
       "      <th>2021-01-03</th>\n",
       "      <td>62.0</td>\n",
       "      <td>56.962560</td>\n",
       "    </tr>\n",
       "    <tr>\n",
       "      <th>2021-01-04</th>\n",
       "      <td>59.0</td>\n",
       "      <td>60.731155</td>\n",
       "    </tr>\n",
       "    <tr>\n",
       "      <th>2021-01-05</th>\n",
       "      <td>59.0</td>\n",
       "      <td>58.899235</td>\n",
       "    </tr>\n",
       "    <tr>\n",
       "      <th>...</th>\n",
       "      <td>...</td>\n",
       "      <td>...</td>\n",
       "    </tr>\n",
       "    <tr>\n",
       "      <th>2022-01-23</th>\n",
       "      <td>60.0</td>\n",
       "      <td>59.347577</td>\n",
       "    </tr>\n",
       "    <tr>\n",
       "      <th>2022-01-24</th>\n",
       "      <td>57.0</td>\n",
       "      <td>59.309806</td>\n",
       "    </tr>\n",
       "    <tr>\n",
       "      <th>2022-01-25</th>\n",
       "      <td>57.0</td>\n",
       "      <td>57.432200</td>\n",
       "    </tr>\n",
       "    <tr>\n",
       "      <th>2022-01-26</th>\n",
       "      <td>67.0</td>\n",
       "      <td>57.406961</td>\n",
       "    </tr>\n",
       "    <tr>\n",
       "      <th>2022-01-27</th>\n",
       "      <td>64.0</td>\n",
       "      <td>63.849456</td>\n",
       "    </tr>\n",
       "  </tbody>\n",
       "</table>\n",
       "<p>391 rows × 2 columns</p>\n",
       "</div>"
      ],
      "text/plain": [
       "            target  prediction\n",
       "DATE                          \n",
       "2021-01-01    57.0   59.569921\n",
       "2021-01-02    56.0   57.599903\n",
       "2021-01-03    62.0   56.962560\n",
       "2021-01-04    59.0   60.731155\n",
       "2021-01-05    59.0   58.899235\n",
       "...            ...         ...\n",
       "2022-01-23    60.0   59.347577\n",
       "2022-01-24    57.0   59.309806\n",
       "2022-01-25    57.0   57.432200\n",
       "2022-01-26    67.0   57.406961\n",
       "2022-01-27    64.0   63.849456\n",
       "\n",
       "[391 rows x 2 columns]"
      ]
     },
     "execution_count": 195,
     "metadata": {},
     "output_type": "execute_result"
    }
   ],
   "source": [
    "pred_comb_final"
   ]
  },
  {
   "cell_type": "code",
   "execution_count": 202,
   "id": "94e63fe9",
   "metadata": {},
   "outputs": [
    {
     "data": {
      "text/plain": [
       "<AxesSubplot:xlabel='DATE'>"
      ]
     },
     "execution_count": 202,
     "metadata": {},
     "output_type": "execute_result"
    },
    {
     "data": {
      "image/png": "[encoded data removed]",
      "text/plain": [
       "<Figure size 432x288 with 1 Axes>"
      ]
     },
     "metadata": {
      "needs_background": "light"
     },
     "output_type": "display_data"
    }
   ],
   "source": [
    "pred_comb_final.plot()"
   ]
  },
  {
   "cell_type": "code",
   "execution_count": 203,
   "id": "139a1554",
   "metadata": {},
   "outputs": [],
   "source": [
    "pred_comb_final['difference'] = (pred_comb_final['target'] - pred_comb_final['prediction']).abs()"
   ]
  },
  {
   "cell_type": "code",
   "execution_count": 204,
   "id": "c29156f5",
   "metadata": {},
   "outputs": [
    {
     "data": {
      "text/html": [
       "<div>\n",
       "<style scoped>\n",
       "    .dataframe tbody tr th:only-of-type {\n",
       "        vertical-align: middle;\n",
       "    }\n",
       "\n",
       "    .dataframe tbody tr th {\n",
       "        vertical-align: top;\n",
       "    }\n",
       "\n",
       "    .dataframe thead th {\n",
       "        text-align: right;\n",
       "    }\n",
       "</style>\n",
       "<table border=\"1\" class=\"dataframe\">\n",
       "  <thead>\n",
       "    <tr style=\"text-align: right;\">\n",
       "      <th></th>\n",
       "      <th>target</th>\n",
       "      <th>prediction</th>\n",
       "      <th>difference</th>\n",
       "    </tr>\n",
       "    <tr>\n",
       "      <th>DATE</th>\n",
       "      <th></th>\n",
       "      <th></th>\n",
       "      <th></th>\n",
       "    </tr>\n",
       "  </thead>\n",
       "  <tbody>\n",
       "    <tr>\n",
       "      <th>2021-01-17</th>\n",
       "      <td>83.0</td>\n",
       "      <td>68.589402</td>\n",
       "      <td>14.410598</td>\n",
       "    </tr>\n",
       "    <tr>\n",
       "      <th>2021-05-07</th>\n",
       "      <td>81.0</td>\n",
       "      <td>67.778050</td>\n",
       "      <td>13.221950</td>\n",
       "    </tr>\n",
       "    <tr>\n",
       "      <th>2021-04-01</th>\n",
       "      <td>62.0</td>\n",
       "      <td>75.167166</td>\n",
       "      <td>13.167166</td>\n",
       "    </tr>\n",
       "    <tr>\n",
       "      <th>2021-02-22</th>\n",
       "      <td>84.0</td>\n",
       "      <td>71.166047</td>\n",
       "      <td>12.833953</td>\n",
       "    </tr>\n",
       "    <tr>\n",
       "      <th>2021-10-16</th>\n",
       "      <td>66.0</td>\n",
       "      <td>78.821614</td>\n",
       "      <td>12.821614</td>\n",
       "    </tr>\n",
       "    <tr>\n",
       "      <th>...</th>\n",
       "      <td>...</td>\n",
       "      <td>...</td>\n",
       "      <td>...</td>\n",
       "    </tr>\n",
       "    <tr>\n",
       "      <th>2021-07-24</th>\n",
       "      <td>70.0</td>\n",
       "      <td>69.956172</td>\n",
       "      <td>0.043828</td>\n",
       "    </tr>\n",
       "    <tr>\n",
       "      <th>2022-01-06</th>\n",
       "      <td>56.0</td>\n",
       "      <td>55.969164</td>\n",
       "      <td>0.030836</td>\n",
       "    </tr>\n",
       "    <tr>\n",
       "      <th>2021-08-06</th>\n",
       "      <td>74.0</td>\n",
       "      <td>74.030809</td>\n",
       "      <td>0.030809</td>\n",
       "    </tr>\n",
       "    <tr>\n",
       "      <th>2021-11-30</th>\n",
       "      <td>67.0</td>\n",
       "      <td>66.969496</td>\n",
       "      <td>0.030504</td>\n",
       "    </tr>\n",
       "    <tr>\n",
       "      <th>2021-11-05</th>\n",
       "      <td>64.0</td>\n",
       "      <td>64.007656</td>\n",
       "      <td>0.007656</td>\n",
       "    </tr>\n",
       "  </tbody>\n",
       "</table>\n",
       "<p>391 rows × 3 columns</p>\n",
       "</div>"
      ],
      "text/plain": [
       "            target  prediction  difference\n",
       "DATE                                      \n",
       "2021-01-17    83.0   68.589402   14.410598\n",
       "2021-05-07    81.0   67.778050   13.221950\n",
       "2021-04-01    62.0   75.167166   13.167166\n",
       "2021-02-22    84.0   71.166047   12.833953\n",
       "2021-10-16    66.0   78.821614   12.821614\n",
       "...            ...         ...         ...\n",
       "2021-07-24    70.0   69.956172    0.043828\n",
       "2022-01-06    56.0   55.969164    0.030836\n",
       "2021-08-06    74.0   74.030809    0.030809\n",
       "2021-11-30    67.0   66.969496    0.030504\n",
       "2021-11-05    64.0   64.007656    0.007656\n",
       "\n",
       "[391 rows x 3 columns]"
      ]
     },
     "execution_count": 204,
     "metadata": {},
     "output_type": "execute_result"
    }
   ],
   "source": [
    "pred_comb_final.sort_values('difference', ascending=False)"
   ]
  },
  {
   "cell_type": "markdown",
   "id": "994cc47f",
   "metadata": {},
   "source": [
    "###### We analyse that the model has improved alot by switch to range train|test split from randomstate split\n",
    "In random state split largest the difference was 27, and in range split the largest difference is 14."
   ]
  },
  {
   "cell_type": "code",
   "execution_count": null,
   "id": "d972857b",
   "metadata": {},
   "outputs": [],
   "source": []
  }
 ],
 "metadata": {
  "kernelspec": {
   "display_name": "Python 3 (ipykernel)",
   "language": "python",
   "name": "python3"
  },
  "language_info": {
   "codemirror_mode": {
    "name": "ipython",
    "version": 3
   },
   "file_extension": ".py",
   "mimetype": "text/x-python",
   "name": "python",
   "nbconvert_exporter": "python",
   "pygments_lexer": "ipython3",
   "version": "3.9.12"
  }
 },
 "nbformat": 4,
 "nbformat_minor": 5
}
